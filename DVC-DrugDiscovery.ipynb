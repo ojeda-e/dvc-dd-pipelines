{
 "cells": [
  {
   "cell_type": "code",
   "execution_count": null,
   "id": "6d33971a",
   "metadata": {
    "slideshow": {
     "slide_type": "skip"
    }
   },
   "outputs": [],
   "source": [
    "from traitlets.config.manager import BaseJSONConfigManager\n",
    "from pathlib import Path\n",
    "path = Path.home() / \".jupyter\" / \"nbconfig\"\n",
    "cm = BaseJSONConfigManager(config_dir=str(path))\n",
    "cm.update(\n",
    "    \"rise\",\n",
    "    {\n",
    "        \"theme\": \"none\",\n",
    "        \"transition\": \"none\",\n",
    "        \"start_slideshow_at\": \"selected\",\n",
    "        \"scroll\": False\n",
    "     }\n",
    ")"
   ]
  },
  {
   "cell_type": "markdown",
   "id": "58f1f0ef",
   "metadata": {
    "slideshow": {
     "slide_type": "slide"
    }
   },
   "source": [
    "\n",
    "<h1 align='center'>Data and Model Version Control: Applications in ML Drug Discovery pipelines\n",
    "</h1>\n",
    "\n",
    "\n",
    "<h3 align='center'>Estefania Barreto-Ojeda</h3>\n",
    "<h4 align='center'>Computational Scientist <br> Cyclica Inc.</h4>"
   ]
  },
  {
   "cell_type": "markdown",
   "id": "1f978856",
   "metadata": {
    "slideshow": {
     "slide_type": "slide"
    }
   },
   "source": [
    "<h3 align='left'>Overview</h3>\n",
    "\n",
    "**Part I: Biological data**\n",
    "- What makes biological data different? \n",
    "- Overview ML drug discovery pipelines\n",
    "- Data feedback loops: optimizing ML models.\n",
    "- Challenges.\n",
    "\n",
    "**Part II: Implementing data-versioned control in drug discovery ML pipelines**\n",
    "- Introduction to DVC.\n",
    "- Implementing DVC for biological data.\n",
    "- Tracking data and models in drug discovery.\n",
    "- Rolling back and forward through versions.\n",
    "- Highlights.\n"
   ]
  },
  {
   "cell_type": "markdown",
   "id": "78665568",
   "metadata": {
    "slideshow": {
     "slide_type": "slide"
    }
   },
   "source": [
    "<h1 align='center'>Part I: Biological Data</h1>"
   ]
  },
  {
   "cell_type": "markdown",
   "id": "4481bc85",
   "metadata": {
    "slideshow": {
     "slide_type": "slide"
    }
   },
   "source": [
    "<br>\n",
    "<h2 align='center'>Data is crucial for Machine Learning.</h2>\n",
    "\n",
    "<br><br>\n",
    "<center>\n",
    "We need a lot of data.\n",
    "</center>"
   ]
  },
  {
   "cell_type": "markdown",
   "id": "a5c71e09",
   "metadata": {
    "slideshow": {
     "slide_type": "fragment"
    }
   },
   "source": [
    "<br>\n",
    "<center>\n",
    "We <b>have</b> a lot of data.\n",
    "</center>\n",
    "<br>\n",
    "<br>\n",
    "\n",
    "<center><h3 style=\"color:darkred;\">Data != Information</h3><center>"
   ]
  },
  {
   "cell_type": "markdown",
   "id": "e0fbfcac",
   "metadata": {
    "slideshow": {
     "slide_type": "slide"
    }
   },
   "source": [
    " <h1 align='center'>Biological data is complex</h1>\n",
    " \n"
   ]
  },
  {
   "cell_type": "markdown",
   "id": "f8738da1",
   "metadata": {
    "slideshow": {
     "slide_type": "fragment"
    }
   },
   "source": [
    "<img src=\"img/ComplexData.png\"  class='center'>\n",
    "\n",
    "<br>\n",
    "<br>\n",
    "<br>\n",
    "\n",
    "\n",
    "<center><h3 style=\"color:darkred;\">Data != Information</h3><center>"
   ]
  },
  {
   "cell_type": "markdown",
   "id": "bab79ce4",
   "metadata": {
    "slideshow": {
     "slide_type": "slide"
    }
   },
   "source": [
    "<!-- Heterogenous -->\n",
    "\n",
    "\n",
    "<p align=\"left\"><img src=\"img/heterogeneous.png\"/></p>\n",
    "\n",
    "\n",
    "* Diverse formats.\n",
    "* Derived from specific assays.\n",
    "    \n",
    "<br>\n",
    "<img src=\"img/omics.png\" align='right' width=800>\n",
    "<br>\n",
    "\n",
    "<!-- <p align=\"right\"><img src=\"img/omics.png\"/></p> -->"
   ]
  },
  {
   "cell_type": "markdown",
   "id": "3d38dde5",
   "metadata": {
    "slideshow": {
     "slide_type": "slide"
    }
   },
   "source": [
    "<!-- High dimensional -->\n",
    "\n",
    "<p align=\"left\"><img src=\"img/high-dim.png\"/></p>\n",
    "<br>\n",
    "\n",
    "- Low number of samples (observations).\n",
    "- High number of variables (features).\n",
    "\n",
    "<br>\n",
    "<img src=\"img/highdim_nature.png\" align='right' width=700>\n",
    "<br>\n",
    "\n",
    "- Example:\n",
    "    - 10,000 samples mRNA.\n",
    "    - Each sample with 100 tumors.\n",
    "    - 100 tumours existing in 10,000-D space. \n",
    "\n",
    "<center>\n",
    "<h6 style=\"color:lightgrey;\">R. Clarke et al. Nat. Rev. Cancer (2008)</h6>\n",
    "</center>\n",
    "\n"
   ]
  },
  {
   "cell_type": "markdown",
   "id": "16574172",
   "metadata": {
    "slideshow": {
     "slide_type": "slide"
    }
   },
   "source": [
    "<!-- Conditional -->\n",
    "<p align=\"left\"><img src=\"img/conditional.png\"/></p>\n",
    "<br>\n",
    "\n",
    "<br>\n",
    "<img src=\"img/practical-rec.jpg\" align='right' width=600>\n",
    "\n",
    "\n",
    "- Protocols are not always reproducible.\n",
    "- Elusive ground truths.\n",
    "\n",
    "\n",
    "- Example:\n",
    "    - No standards or tools available:\n",
    "        - aggregating data.\n",
    "        - curating data.\n",
    "    - Standardized methods available lack functionality.\n",
    "    - Complex problems, complex experiments.\n",
    "\n",
    "<center>\n",
    "<h6 style=\"color:lightgrey;\">V.L. Porubsky, et al. Cancer Cell (2020)</h6>\n",
    "</center>"
   ]
  },
  {
   "cell_type": "markdown",
   "id": "10922958",
   "metadata": {
    "slideshow": {
     "slide_type": "notes"
    }
   },
   "source": [
    "The literature on reproducibility agrees to a large degree that the same experiment is conducted as long as the same experimental method is followed. However, following the same method is not enough. \n",
    "\n",
    "Popular deep learning (and other machine learning) methods are often used to tackle classification tasks and thus require ground-truth labels for training. "
   ]
  },
  {
   "cell_type": "markdown",
   "id": "1f08c889",
   "metadata": {
    "slideshow": {
     "slide_type": "slide"
    }
   },
   "source": [
    "<!-- Research biased -->\n",
    "\n",
    "<br>\n",
    "<p align=\"left\"><img src=\"img/biased.png\"/></p>\n",
    "<br>\n",
    "\n",
    "<img src=\"img/covid_nature.png\" align='right' width=500>\n",
    "\n",
    "- Bias towards specific outputs.\n",
    "- More data on “hot” topics.\n",
    "\n",
    "\n",
    "\n",
    "- Example:\n",
    "        \n",
    "    Articles on COVID-19:\n",
    "\n",
    "    - **2020:** +192 k\n",
    "    - **2021:** +298 k\n",
    "    \n",
    "<center>\n",
    "<h6 style=\"color:lightgrey;\">(H. Else, Nature 2020)</h6>\n",
    "</center>"
   ]
  },
  {
   "cell_type": "markdown",
   "id": "c166ff27",
   "metadata": {
    "slideshow": {
     "slide_type": "slide"
    }
   },
   "source": [
    "<br>\n",
    "<h2 align='center'>Biological data is complex</h2></text>\n",
    "<br>\n",
    "<br>\n",
    "<div class=\"col-md-8\" markdown=\"1\">\n",
    "<br>\n",
    "<br>\n",
    "</div>\n",
    "\n",
    "<div class=\"col-md-8\" markdown=\"1\">\n",
    "\n",
    "- **Dissimilar**\n",
    "\n",
    "    →  Diverse formats and content.\n",
    "\n",
    "<br>\n",
    "\n",
    "- **Imbalanced**\n",
    "\n",
    "    →  More data for given feature.\n",
    "</div>\n",
    "\n",
    "\n",
    "- **Redundant**\n",
    "\n",
    "    →  Duplicated values.\n",
    "    \n",
    "<br>\n",
    "\n",
    "- **Sparse**\n",
    "\n",
    "    →  Lack annotations.\n",
    "    \n",
    "<br>\n",
    "<br>\n",
    "<center><h3 style=\"color:darkred;\">Data != Information</h3><center>"
   ]
  },
  {
   "cell_type": "markdown",
   "id": "4451443b",
   "metadata": {
    "slideshow": {
     "slide_type": "slide"
    }
   },
   "source": [
    "<br>\n",
    "<h2 align='center'>Biological data is complex</h2></text>\n",
    "<br>\n",
    "\n",
    "\n",
    "- No direct use or implementation.\n",
    "\n",
    "- Requires curation!\n",
    "\n",
    "\n",
    "<br>\n",
    "<img src=\"img/BearTheData.png\" align='center' width=490>\n",
    "<br>\n",
    "\n",
    "<center>\n",
    "    <h3 style=\"color:darkcyan;\">Data == Information\n",
    "    </h3>\n",
    "<center>"
   ]
  },
  {
   "cell_type": "markdown",
   "id": "f7119134",
   "metadata": {
    "slideshow": {
     "slide_type": "slide"
    }
   },
   "source": [
    "<br>\n",
    "<h2 align='left'>ML Workflow</h2></text>\n",
    "<br>\n",
    "<img src=\"img/step1.png\" align='center'>\n",
    "<br>\n"
   ]
  },
  {
   "cell_type": "markdown",
   "id": "7e2cf7ac",
   "metadata": {
    "slideshow": {
     "slide_type": "slide"
    }
   },
   "source": [
    "<br>\n",
    "<h2 align='left'>ML Workflow</h2></text>\n",
    "\n",
    "<img src=\"img/step2.png\" align='center'>\n",
    "<br>\n"
   ]
  },
  {
   "cell_type": "markdown",
   "id": "731e0b34",
   "metadata": {
    "slideshow": {
     "slide_type": "slide"
    }
   },
   "source": [
    "<br>\n",
    "<h2 align='left'>ML Workflow Drug Discovery Pipelines\n",
    "</h2></text>\n",
    "<br>\n",
    "<img src=\"img/step2-DD.png\" align='center'>\n",
    "<br>\n"
   ]
  },
  {
   "cell_type": "markdown",
   "id": "6f7b759c",
   "metadata": {
    "slideshow": {
     "slide_type": "slide"
    }
   },
   "source": [
    "<br>\n",
    "<h2 align='left'>ML Workflow Drug Discovery Pipelines\n",
    "</h2></text>\n",
    "<br>\n",
    "<img src=\"img/step3.png\" align='center'>\n",
    "<br>\n"
   ]
  },
  {
   "cell_type": "markdown",
   "id": "526f834f",
   "metadata": {
    "slideshow": {
     "slide_type": "slide"
    }
   },
   "source": [
    "<br>\n",
    "<h2 align='left'>ML Workflow Drug Discovery Pipelines\n",
    "</h2>\n",
    "<br>\n",
    "<img src=\"img/step4.png\" align='center'>\n",
    "<br>\n"
   ]
  },
  {
   "cell_type": "markdown",
   "id": "ef9366d6",
   "metadata": {
    "slideshow": {
     "slide_type": "slide"
    }
   },
   "source": [
    "<br>\n",
    "<h2 align='left'>ML Workflow Drug Discovery Pipelines\n",
    "</h2>\n",
    "\n",
    "<br>\n",
    "\n",
    "* Keep model updated.\n",
    "* Integration of new generated data.\n",
    "\n",
    "<br><br>\n",
    "\n",
    "<center>\n",
    "<b>Flexible ML models</b>\n",
    "</center>\n",
    "\n",
    "<br>\n",
    "<img src=\"img/experiments.png\" align='center'>"
   ]
  },
  {
   "cell_type": "markdown",
   "id": "88570722",
   "metadata": {
    "slideshow": {
     "slide_type": "slide"
    }
   },
   "source": [
    "<br>\n",
    "<h2 align='left'>Drug Discovery Pipelines: challenges\n",
    "</h2>\n",
    "\n",
    "\n",
    "* Not completely defined by the code or the dataset only. \n",
    "* Changes in the dataset + data processing + code.\n",
    "* ML is the set of:\n",
    "    * All the possible models.\n",
    "    * Every version of initial dataset and transformed dataset.\n",
    "    * Associated metrics.\n",
    "\n",
    "\n",
    "<img src=\"img/experiments-hl.png\" align='center'>"
   ]
  },
  {
   "cell_type": "markdown",
   "id": "361fbaee",
   "metadata": {
    "slideshow": {
     "slide_type": "slide"
    }
   },
   "source": [
    "<br>\n",
    "<h2 align='left'>Drug Discovery Pipelines: challenges\n",
    "</h2>\n",
    "<br>\n",
    "\n",
    "(1) Raw data, curated data.\n",
    "\n",
    "(2) ML models.\n",
    "\n",
    "(3) Metrics.\n",
    "\n",
    "To improve prediction: More ML models and more metrics.\n",
    "<h3 align='center'>How do we track all these changes?\n",
    "</h3>\n",
    "<br>\n",
    "<img src=\"img/experiments-hl.png\" align='center'>"
   ]
  },
  {
   "cell_type": "markdown",
   "id": "248bb841",
   "metadata": {
    "slideshow": {
     "slide_type": "slide"
    }
   },
   "source": [
    "<br>\n",
    "<h2 align='left'>Drug Discovery Pipelines: challenges\n",
    "</h2>\n",
    "<br>\n",
    "\n",
    "(1) Raw data, curated data.\n",
    "\n",
    "(2) ML models.\n",
    "\n",
    "(3) Metrics.\n",
    "\n",
    "To improve prediction: More ML models and more metrics.\n",
    "<h3 align='center'>How do we track all these changes?\n",
    "</h3>\n",
    "<br>\n",
    "<img src=\"img/experiments-DVC.png\" align='center'>"
   ]
  },
  {
   "cell_type": "markdown",
   "id": "177b0a26",
   "metadata": {
    "slideshow": {
     "slide_type": "slide"
    }
   },
   "source": [
    "<h1 align='center'>Part II: Implementing data version control in drug discovery ML pipelines\n",
    "</h1>"
   ]
  },
  {
   "cell_type": "markdown",
   "id": "b667f168",
   "metadata": {
    "slideshow": {
     "slide_type": "slide"
    }
   },
   "source": [
    "<h2 align='left'>What is DVC?</h2>\n",
    "\n",
    "<u>D</u>ata <u>V</u>ersion <u>C</u>ontrol\n",
    "<div class=\"col-md-8\" markdown=\"1\">\n",
    "\n",
    "<img src=\"img/DVClogo.svg\" align='left' width=150>\n",
    "</div>\n",
    "<br>\n",
    "<div class=\"col-md-8\" markdown=\"1\">\n",
    "\n",
    "* Open source.\n",
    "* Compatible with git providers.\n",
    "* Compatible with cloud storage providers.\n",
    "* Language and framework agnostic.\n",
    "\n",
    "**What can it do?**\n",
    "* Track data and metrics.\n",
    "* Version control ML projects.\n",
    "* Manage ML experiments.\n",
    "<br>\n",
    "</div>\n",
    "\n",
    "<br>\n",
    "\n",
    "**What is not?**\n",
    "\n",
    "Disney Vacation Club\n",
    "\n",
    "<img src=\"img/not-dvc.jpeg\" align='left' width=200>\n",
    "\n"
   ]
  },
  {
   "cell_type": "markdown",
   "id": "e889e57c",
   "metadata": {
    "slideshow": {
     "slide_type": "slide"
    }
   },
   "source": [
    "**Installing DVC**\n",
    "\n",
    "<br>\n",
    "\n",
    "```bash\n",
    "\n",
    "pip install dvc\n",
    "\n",
    "\n",
    "```\n",
    "\n",
    "- Choose your cloud provider:\n",
    "    `[s3]`, `[gdrive]`, `[gs]`, `[azure]`, etc. \n",
    "\n",
    "- Use `[all]` to include them all.\n",
    "\n",
    "<br>\n",
    "\n",
    "For this talk, cloud provider is Google Cloud: `dvc[gs]`\n",
    "\n",
    "\n",
    "```bash\n",
    "\n",
    "pip install \"dvc[gs]\"\n",
    "\n",
    "\n",
    "```"
   ]
  },
  {
   "cell_type": "code",
   "execution_count": null,
   "id": "3da743e3",
   "metadata": {
    "slideshow": {
     "slide_type": "fragment"
    }
   },
   "outputs": [],
   "source": [
    "! pip install \"dvc[gs]\""
   ]
  },
  {
   "cell_type": "markdown",
   "id": "74e3bbe3",
   "metadata": {
    "slideshow": {
     "slide_type": "slide"
    }
   },
   "source": [
    "**Initialize DVC**\n",
    "\n",
    "DVC works best with Git repos.\n",
    "\n",
    "```bash\n",
    "\n",
    "dvc init\n",
    "\n",
    "\n",
    "```"
   ]
  },
  {
   "cell_type": "code",
   "execution_count": null,
   "id": "0fd3f23c",
   "metadata": {
    "slideshow": {
     "slide_type": "fragment"
    }
   },
   "outputs": [],
   "source": [
    "! mkdir /tmp/tmp_demo2\n",
    "! cd /tmp/tmp_demo2 && git init  &&  dvc init"
   ]
  },
  {
   "cell_type": "markdown",
   "id": "650a8bed",
   "metadata": {},
   "source": [
    "At DVC initialization, a new `.dvc/` directory is created for configuration:"
   ]
  },
  {
   "cell_type": "code",
   "execution_count": null,
   "id": "dad8f638",
   "metadata": {},
   "outputs": [],
   "source": [
    "! ls -a ../ | grep \"^\\.\""
   ]
  },
  {
   "cell_type": "markdown",
   "id": "098c555a",
   "metadata": {
    "slideshow": {
     "slide_type": "slide"
    }
   },
   "source": [
    "**Set remote**\n",
    "\n",
    "```bash\n",
    "\n",
    "dvc remote add <remote_name> <url>\n",
    "\n",
    "\n",
    "```"
   ]
  },
  {
   "cell_type": "code",
   "execution_count": null,
   "id": "18d151a3",
   "metadata": {
    "scrolled": true
   },
   "outputs": [],
   "source": [
    "! dvc remote add test gs://cyc-dvc-storage/test\n",
    "! cat ../.dvc/config"
   ]
  },
  {
   "cell_type": "code",
   "execution_count": null,
   "id": "2d2126e7",
   "metadata": {},
   "outputs": [],
   "source": [
    "! dvc remote list"
   ]
  },
  {
   "cell_type": "code",
   "execution_count": null,
   "id": "f8d9bb8f",
   "metadata": {},
   "outputs": [],
   "source": [
    "! dvc remote default"
   ]
  },
  {
   "cell_type": "code",
   "execution_count": null,
   "id": "d3d0d362",
   "metadata": {},
   "outputs": [],
   "source": [
    "! dvc remote default test\n",
    "! dvc remote default"
   ]
  },
  {
   "cell_type": "code",
   "execution_count": null,
   "id": "733c8807",
   "metadata": {
    "scrolled": true
   },
   "outputs": [],
   "source": [
    "! cat ../.dvc/config   # To get/set DVC configuration options."
   ]
  },
  {
   "cell_type": "markdown",
   "id": "d1a12343",
   "metadata": {
    "slideshow": {
     "slide_type": "slide"
    }
   },
   "source": [
    "To start tracking a file or directory, use `dvc add`:\n",
    "\n",
    "```bash\n",
    "\n",
    "dvc add data/file_with_data.csv\n",
    "\n",
    "\n",
    "```"
   ]
  },
  {
   "cell_type": "code",
   "execution_count": null,
   "id": "ae66a7d1",
   "metadata": {
    "scrolled": true
   },
   "outputs": [],
   "source": [
    "! echo \"This  is a test file.\" >../data/simple_echo.csv\n",
    "! ls ../data\n",
    "! dvc add ../data/simple_echo.csv"
   ]
  },
  {
   "cell_type": "markdown",
   "id": "7fa0b1de",
   "metadata": {
    "slideshow": {
     "slide_type": "slide"
    }
   },
   "source": [
    "1. `dvc add`\n",
    "\n",
    "1.1. `dvc add` --> `*.dvc` (Metadata)"
   ]
  },
  {
   "cell_type": "code",
   "execution_count": null,
   "id": "125c5591",
   "metadata": {
    "slideshow": {
     "slide_type": "-"
    }
   },
   "outputs": [],
   "source": [
    "! ls ../data/"
   ]
  },
  {
   "cell_type": "code",
   "execution_count": null,
   "id": "e2c650b4",
   "metadata": {
    "scrolled": true
   },
   "outputs": [],
   "source": [
    "! cat ../data/simple_echo.csv.dvc"
   ]
  },
  {
   "cell_type": "markdown",
   "id": "67a0c024",
   "metadata": {
    "slideshow": {
     "slide_type": "fragment"
    }
   },
   "source": [
    "1.2. `dvc add` --> `.dvc/cache` (Cache MD5 hash)."
   ]
  },
  {
   "cell_type": "markdown",
   "id": "03c48dd7",
   "metadata": {
    "slideshow": {
     "slide_type": "-"
    }
   },
   "source": [
    "What just happened?\n",
    "\n",
    "```\n",
    "\n",
    ".dvc/cache\n",
    "\n",
    "|\n",
    "└── XY\n",
    "\n",
    "    |\n",
    "    └── abcdefghijk1234567890....f\n",
    "\n",
    "\n",
    "```"
   ]
  },
  {
   "cell_type": "code",
   "execution_count": null,
   "id": "9b3a9d38",
   "metadata": {},
   "outputs": [],
   "source": [
    "cat ../.dvc/cache/de/c9dae10b89d3cd7b3f76497cafb53c"
   ]
  },
  {
   "cell_type": "markdown",
   "id": "1a3ffabf",
   "metadata": {
    "slideshow": {
     "slide_type": "slide"
    }
   },
   "source": [
    "1.3. `dvc add` --> `.gitignore` (ignore data files).\n",
    "\n",
    "For files/directories to be excluded."
   ]
  },
  {
   "cell_type": "code",
   "execution_count": null,
   "id": "3140cefc",
   "metadata": {
    "scrolled": true
   },
   "outputs": [],
   "source": [
    "! cat ../data/.gitignore"
   ]
  },
  {
   "cell_type": "markdown",
   "id": "acba7487",
   "metadata": {
    "slideshow": {
     "slide_type": "slide"
    }
   },
   "source": [
    "1. `dvc add`:\n",
    "\n",
    "- generate dvc file\n",
    "- store cache\n",
    "- ignore data files\n",
    "\n",
    "\n",
    "2. Track `.dvc` files with git!\n",
    "\n",
    "```bash\n",
    "\n",
    "git add data/simple_echo.csv.dvc data/.gitignore\n",
    "\n",
    "git commit -m \"Add sample data. Initial version.\"\n",
    "\n",
    "\n",
    "```"
   ]
  },
  {
   "cell_type": "markdown",
   "id": "142dd2ed",
   "metadata": {
    "slideshow": {
     "slide_type": "slide"
    }
   },
   "source": [
    "<h2 align='left'>Implementing DVC in Drug Discovery Pipelines\n",
    "</h2>\n",
    "<br>\n",
    "\n",
    "1. Set up:\n",
    "    \n",
    "    - Install\n",
    "    - Initialize\n",
    "    - Set remote storage\n",
    "    - Test adding files\n",
    "\n",
    "\n",
    "2. Data versioning and model versioning.\n",
    "3. Rolling backward/forward.\n",
    "4. Highlights"
   ]
  },
  {
   "cell_type": "markdown",
   "id": "36ad9b3f",
   "metadata": {
    "slideshow": {
     "slide_type": "slide"
    }
   },
   "source": [
    "<h2 align='left'>Data versioning and model versioning.</h2>\n",
    "<br>\n",
    "\n",
    "**Drug Discovery Pipelines: challenges**\n",
    "\n",
    "(1) Raw data, curated data.\n",
    "\n",
    "(2) ML models.\n",
    "\n",
    "(3) Metrics.\n",
    "\n",
    "\n",
    "<br>\n",
    "<img src=\"img/experiments-DVC.png\" align='center' width=1100>\n"
   ]
  },
  {
   "cell_type": "markdown",
   "id": "2ca4578f",
   "metadata": {
    "slideshow": {
     "slide_type": "slide"
    }
   },
   "source": [
    "<h2 align='left'>Data versioning and model versioning.</h2>\n",
    "<br>\n",
    "(1) Curated data --> `/data/clean_data.csv`\n"
   ]
  },
  {
   "cell_type": "code",
   "execution_count": 3,
   "id": "fb674ec6",
   "metadata": {},
   "outputs": [
    {
     "data": {
      "text/html": [
       "<div>\n",
       "<style scoped>\n",
       "    .dataframe tbody tr th:only-of-type {\n",
       "        vertical-align: middle;\n",
       "    }\n",
       "\n",
       "    .dataframe tbody tr th {\n",
       "        vertical-align: top;\n",
       "    }\n",
       "\n",
       "    .dataframe thead th {\n",
       "        text-align: right;\n",
       "    }\n",
       "</style>\n",
       "<table border=\"1\" class=\"dataframe\">\n",
       "  <thead>\n",
       "    <tr style=\"text-align: right;\">\n",
       "      <th></th>\n",
       "      <th>smiles</th>\n",
       "      <th>class</th>\n",
       "    </tr>\n",
       "  </thead>\n",
       "  <tbody>\n",
       "    <tr>\n",
       "      <th>0</th>\n",
       "      <td>C=1([C@@H](C(=C(C)NC1C)C(OC)=O)c1cc(ccc1)[N+](...</td>\n",
       "      <td>1</td>\n",
       "    </tr>\n",
       "    <tr>\n",
       "      <th>1</th>\n",
       "      <td>C1(\\c2c(CCc3c1cccc3)cccc2)=C\\CCN(C)C</td>\n",
       "      <td>1</td>\n",
       "    </tr>\n",
       "    <tr>\n",
       "      <th>2</th>\n",
       "      <td>c1(c2c(cccc2)oc1CCCC)C(c1cc(c(OCCN(CC)CC)c(c1)...</td>\n",
       "      <td>1</td>\n",
       "    </tr>\n",
       "    <tr>\n",
       "      <th>3</th>\n",
       "      <td>[H][C@H]1CC[C@@H](C#N)C1C(=O)C3CN(C(C)c2ccc(C#...</td>\n",
       "      <td>1</td>\n",
       "    </tr>\n",
       "    <tr>\n",
       "      <th>4</th>\n",
       "      <td>[nH]1ccnc1-c2ccc(cc2)OCCCN3CCCCC3</td>\n",
       "      <td>1</td>\n",
       "    </tr>\n",
       "  </tbody>\n",
       "</table>\n",
       "</div>"
      ],
      "text/plain": [
       "                                              smiles  class\n",
       "0  C=1([C@@H](C(=C(C)NC1C)C(OC)=O)c1cc(ccc1)[N+](...      1\n",
       "1               C1(\\c2c(CCc3c1cccc3)cccc2)=C\\CCN(C)C      1\n",
       "2  c1(c2c(cccc2)oc1CCCC)C(c1cc(c(OCCN(CC)CC)c(c1)...      1\n",
       "3  [H][C@H]1CC[C@@H](C#N)C1C(=O)C3CN(C(C)c2ccc(C#...      1\n",
       "4                  [nH]1ccnc1-c2ccc(cc2)OCCCN3CCCCC3      1"
      ]
     },
     "execution_count": 3,
     "metadata": {},
     "output_type": "execute_result"
    }
   ],
   "source": [
    "import pandas as pd\n",
    "data = pd.read_csv('./data/clean_data.csv')\n",
    "data.head()"
   ]
  },
  {
   "cell_type": "code",
   "execution_count": 2,
   "id": "e5f093c3",
   "metadata": {},
   "outputs": [
    {
     "data": {
      "text/plain": [
       "'C1(\\\\c2c(CCc3c1cccc3)cccc2)=C\\\\CCN(C)C'"
      ]
     },
     "execution_count": 2,
     "metadata": {},
     "output_type": "execute_result"
    }
   ],
   "source": [
    "data['smiles'][1]"
   ]
  },
  {
   "cell_type": "code",
   "execution_count": 3,
   "id": "c1f11581",
   "metadata": {},
   "outputs": [
    {
     "data": {
      "image/png": "[encoded data removed]",
      "text/plain": [
       "<rdkit.Chem.rdchem.Mol at 0x7fa112d89240>"
      ]
     },
     "execution_count": 3,
     "metadata": {},
     "output_type": "execute_result"
    }
   ],
   "source": [
    "from rdkit import Chem\n",
    "from rdkit.Chem.Draw import IPythonConsole\n",
    "IPythonConsole.drawOptions.addAtomIndices = True\n",
    "IPythonConsole.molSize = 400,400\n",
    "\n",
    "mol_ten = Chem.MolFromSmiles(data['smiles'][1])\n",
    "mol_ten"
   ]
  },
  {
   "cell_type": "markdown",
   "id": "4a6221e8",
   "metadata": {
    "slideshow": {
     "slide_type": "slide"
    }
   },
   "source": [
    "<h2 align='left'>Data versioning and model versioning.</h2>\n",
    "<br>\n"
   ]
  },
  {
   "cell_type": "code",
   "execution_count": 4,
   "id": "a47044a1",
   "metadata": {
    "slideshow": {
     "slide_type": "-"
    }
   },
   "outputs": [
    {
     "data": {
      "image/png": "[encoded data removed]",
      "text/plain": [
       "<rdkit.Chem.rdchem.Mol at 0x7fa112d89240>"
      ]
     },
     "execution_count": 4,
     "metadata": {},
     "output_type": "execute_result"
    }
   ],
   "source": [
    "mol_ten"
   ]
  },
  {
   "cell_type": "code",
   "execution_count": 5,
   "id": "576ca0cf",
   "metadata": {
    "scrolled": true,
    "slideshow": {
     "slide_type": "-"
    }
   },
   "outputs": [
    {
     "data": {
      "text/plain": [
       "'amitriptyline'"
      ]
     },
     "execution_count": 5,
     "metadata": {},
     "output_type": "execute_result"
    }
   ],
   "source": [
    "import pubchempy as pcp\n",
    "\n",
    "id_ = pcp.get_compounds(data['smiles'][1], 'smiles')[0]\n",
    "id_.synonyms[0]"
   ]
  },
  {
   "cell_type": "markdown",
   "id": "177b8dbb",
   "metadata": {
    "slideshow": {
     "slide_type": "slide"
    }
   },
   "source": [
    "<h2 align='left'>Data versioning and model versioning.</h2>\n",
    "<br>\n"
   ]
  },
  {
   "cell_type": "code",
   "execution_count": 6,
   "id": "ca696403",
   "metadata": {
    "collapsed": true,
    "slideshow": {
     "slide_type": "-"
    }
   },
   "outputs": [
    {
     "data": {
      "text/plain": [
       "(4000,)"
      ]
     },
     "execution_count": 6,
     "metadata": {},
     "output_type": "execute_result"
    }
   ],
   "source": [
    "labels = data['class']\n",
    "labels.shape"
   ]
  },
  {
   "cell_type": "code",
   "execution_count": 7,
   "id": "9fa2d800",
   "metadata": {
    "collapsed": true
   },
   "outputs": [
    {
     "data": {
      "text/plain": [
       "(4000,)"
      ]
     },
     "execution_count": 7,
     "metadata": {},
     "output_type": "execute_result"
    }
   ],
   "source": [
    "smiles = data['smiles']\n",
    "smiles.shape"
   ]
  },
  {
   "cell_type": "markdown",
   "id": "06c0cbfa",
   "metadata": {},
   "source": [
    "a) Featurize data"
   ]
  },
  {
   "cell_type": "markdown",
   "id": "2ff45f0e",
   "metadata": {},
   "source": [
    "```python\n",
    "\n",
    "from src.utils import get_descriptors\n",
    "\n",
    "df_process = get_descriptors(smiles)\n",
    "\n",
    "df_process.to_csv(\"./data/processed_data.csv\")\n",
    "\n",
    "\n",
    "```"
   ]
  },
  {
   "cell_type": "code",
   "execution_count": 4,
   "id": "0c68431b",
   "metadata": {},
   "outputs": [
    {
     "name": "stdout",
     "output_type": "stream",
     "text": [
      "<class 'pandas.core.frame.DataFrame'>\n",
      "RangeIndex: 4000 entries, 0 to 3999\n",
      "Columns: 400 entries, Unnamed: 0 to qed\n",
      "dtypes: float64(399), int64(1)\n",
      "memory usage: 12.2 MB\n"
     ]
    }
   ],
   "source": [
    "featurized_data =  pd.read_csv('./data/processed_data.csv')\n",
    "featurized_data.info()"
   ]
  },
  {
   "cell_type": "markdown",
   "id": "6344417a",
   "metadata": {
    "slideshow": {
     "slide_type": "slide"
    }
   },
   "source": [
    "<h2 align='left'>Data versioning and model versioning.</h2>\n",
    "<br>\n"
   ]
  },
  {
   "cell_type": "code",
   "execution_count": 20,
   "id": "c4310d24",
   "metadata": {},
   "outputs": [
    {
     "data": {
      "text/plain": [
       "(4000, 400)"
      ]
     },
     "execution_count": 20,
     "metadata": {},
     "output_type": "execute_result"
    }
   ],
   "source": [
    "featurized_data.shape"
   ]
  },
  {
   "cell_type": "code",
   "execution_count": 9,
   "id": "096f26eb",
   "metadata": {},
   "outputs": [
    {
     "name": "stdout",
     "output_type": "stream",
     "text": [
      "Removing 347 features.\n"
     ]
    }
   ],
   "source": [
    "from src.utils import remove_zeros, filter_correlation\n",
    "descriptors_df = remove_zeros(featurized_data, threshold=0)"
   ]
  },
  {
   "cell_type": "code",
   "execution_count": 10,
   "id": "4350ab6b",
   "metadata": {},
   "outputs": [
    {
     "name": "stdout",
     "output_type": "stream",
     "text": [
      "Removing column AUTOCORR2D_17\n",
      "Removing column AUTOCORR2D_18\n",
      "Removing column AUTOCORR2D_2\n",
      "Removing column AUTOCORR2D_25\n",
      "Removing column AUTOCORR2D_26\n",
      "Removing column AUTOCORR2D_33\n",
      "Removing column AUTOCORR2D_34\n",
      "Removing column AUTOCORR2D_9\n",
      "Removing column Chi0n\n",
      "Removing column Chi0v\n",
      "Removing column Chi1\n",
      "Removing column Chi1v\n",
      "Removing column Chi2n\n",
      "Removing column ExactMolWt\n",
      "Removing column HeavyAtomCount\n",
      "Removing column HeavyAtomMolWt\n",
      "Removing column Kappa1\n",
      "Removing column LabuteASA\n",
      "Removing column MaxEStateIndex\n",
      "Removing column MinAbsPartialCharge\n",
      "Removing column MinPartialCharge\n",
      "Removing column MolMR\n",
      "Removing column MolWt\n",
      "Removing column NumValenceElectrons\n"
     ]
    }
   ],
   "source": [
    "filtered_data = desc_df = filter_correlation(descriptors_df, filter=0.95)"
   ]
  },
  {
   "cell_type": "code",
   "execution_count": 12,
   "id": "519fcc56",
   "metadata": {},
   "outputs": [
    {
     "data": {
      "text/plain": [
       "(4000, 29)"
      ]
     },
     "execution_count": 12,
     "metadata": {},
     "output_type": "execute_result"
    }
   ],
   "source": [
    "filtered_data.shape"
   ]
  },
  {
   "cell_type": "code",
   "execution_count": null,
   "id": "16f263ad",
   "metadata": {},
   "outputs": [],
   "source": []
  },
  {
   "cell_type": "markdown",
   "id": "769b9635",
   "metadata": {
    "slideshow": {
     "slide_type": "slide"
    }
   },
   "source": [
    "<h1 align='center'>Acknowledgments<br></h1>\n",
    "\n",
    "**Cyclica:**\n",
    "- Stephen MacKinnon\n",
    "- Ali Madani\n",
    "- Steve Constable\n",
    "- Maria Elena Garcia\n",
    "- Federico Comitani\n",
    "- Daniella Lato"
   ]
  },
  {
   "cell_type": "markdown",
   "id": "c88d12c5",
   "metadata": {
    "slideshow": {
     "slide_type": "slide"
    }
   },
   "source": [
    "<h2 align='center'>Thanks!<br></h2>\n",
    "\n",
    "<h2 align='center'>Questions?<br></h2>"
   ]
  },
  {
   "cell_type": "code",
   "execution_count": null,
   "id": "0f972696",
   "metadata": {},
   "outputs": [],
   "source": []
  }
 ],
 "metadata": {
  "celltoolbar": "Slideshow",
  "kernelspec": {
   "display_name": "PyData",
   "language": "python",
   "name": "pydata"
  },
  "language_info": {
   "codemirror_mode": {
    "name": "ipython",
    "version": 3
   },
   "file_extension": ".py",
   "mimetype": "text/x-python",
   "name": "python",
   "nbconvert_exporter": "python",
   "pygments_lexer": "ipython3",
   "version": "3.10.6"
  },
  "toc": {
   "base_numbering": 1,
   "nav_menu": {
    "height": "219.991px",
    "width": "425.998px"
   },
   "number_sections": false,
   "sideBar": true,
   "skip_h1_title": false,
   "title_cell": "Table of Contents",
   "title_sidebar": "Contents",
   "toc_cell": false,
   "toc_position": {},
   "toc_section_display": true,
   "toc_window_display": false
  },
  "widgets": {
   "application/vnd.jupyter.widget-state+json": {
    "state": {
     "007453af110a41c69882a2ae13666627": {
      "model_module": "@jupyter-widgets/controls",
      "model_module_version": "1.5.0",
      "model_name": "DescriptionStyleModel",
      "state": {
       "description_width": ""
      }
     },
     "0226066d375249ac8b194b022b423649": {
      "model_module": "@jupyter-widgets/controls",
      "model_module_version": "1.5.0",
      "model_name": "FloatSliderModel",
      "state": {
       "description": "a0",
       "layout": "IPY_MODEL_ee0ac2f0e8644404aed0691522356ca5",
       "max": 15,
       "min": -5,
       "step": 0.01,
       "style": "IPY_MODEL_b5c3e7d9c0484d00bfabb318186b4971",
       "value": 5
      }
     },
     "02fe1afb778c4c73b7a27a7e3983ae59": {
      "model_module": "@jupyter-widgets/controls",
      "model_module_version": "1.5.0",
      "model_name": "SliderStyleModel",
      "state": {
       "description_width": ""
      }
     },
     "036c95000f5c4c40b4b82e1801bb2ef3": {
      "model_module": "@jupyter-widgets/controls",
      "model_module_version": "1.5.0",
      "model_name": "CheckboxModel",
      "state": {
       "description": "fit_reg",
       "disabled": false,
       "layout": "IPY_MODEL_78b38b51b21240aab063075f1f5554b4",
       "style": "IPY_MODEL_090a64965be6403ca61a6e87b5fac7cf",
       "value": false
      }
     },
     "03a5ffa3ac654328a3f439d11a280785": {
      "model_module": "@jupyter-widgets/controls",
      "model_module_version": "1.5.0",
      "model_name": "VBoxModel",
      "state": {
       "_dom_classes": [
        "widget-interact"
       ],
       "children": [
        "IPY_MODEL_a5a764dd18d64db6af6bbab73cdb5bb9",
        "IPY_MODEL_61de9d7c8f7e4d7bae55a059ac6da2d2",
        "IPY_MODEL_83c85204e8af47898358e32d529d70bf"
       ],
       "layout": "IPY_MODEL_3a316efc18794a848f80531b3db52705"
      }
     },
     "041fcf89708c4fa599e33b2d5b7deba4": {
      "model_module": "@jupyter-widgets/base",
      "model_module_version": "1.2.0",
      "model_name": "LayoutModel",
      "state": {}
     },
     "0597fb826e1a4ac7a63505d5ced4b55f": {
      "model_module": "@jupyter-widgets/controls",
      "model_module_version": "1.5.0",
      "model_name": "IntSliderModel",
      "state": {
       "description": "y",
       "layout": "IPY_MODEL_680bff499fca4344a9fd87363cd033e3",
       "max": 10,
       "style": "IPY_MODEL_48eaf20bf29543e094a3b568a969edb1",
       "value": 5
      }
     },
     "06611b7e1f514d52aab4c79b2463da29": {
      "model_module": "@jupyter-widgets/controls",
      "model_module_version": "1.5.0",
      "model_name": "FloatSliderModel",
      "state": {
       "description": "m",
       "layout": "IPY_MODEL_0cf48786c03e4eaaa5b45b41fd3cad39",
       "max": 2,
       "min": -2,
       "step": 0.1,
       "style": "IPY_MODEL_d9cf392625954cc5bb8b846d10b11624"
      }
     },
     "06b1cc9515f849809b71e1324921a644": {
      "model_module": "@jupyter-widgets/controls",
      "model_module_version": "1.5.0",
      "model_name": "SliderStyleModel",
      "state": {
       "description_width": ""
      }
     },
     "06b464f597cd41ff89563784211d5559": {
      "model_module": "@jupyter-widgets/base",
      "model_module_version": "1.2.0",
      "model_name": "LayoutModel",
      "state": {}
     },
     "07773ef79db24d6c81d483b0bee8241b": {
      "model_module": "@jupyter-widgets/output",
      "model_module_version": "1.0.0",
      "model_name": "OutputModel",
      "state": {
       "layout": "IPY_MODEL_38c55d12de0e43d987f9f24b93ef9b58"
      }
     },
     "085fb5196c8b4c72b881e712bccb5706": {
      "model_module": "@jupyter-widgets/base",
      "model_module_version": "1.2.0",
      "model_name": "LayoutModel",
      "state": {}
     },
     "090a64965be6403ca61a6e87b5fac7cf": {
      "model_module": "@jupyter-widgets/controls",
      "model_module_version": "1.5.0",
      "model_name": "DescriptionStyleModel",
      "state": {
       "description_width": ""
      }
     },
     "09a7593277484f2d85582d59c6a3bc85": {
      "model_module": "@jupyter-widgets/base",
      "model_module_version": "1.2.0",
      "model_name": "LayoutModel",
      "state": {}
     },
     "0a3cb79c88084b2f9049ab403cfa7b15": {
      "model_module": "@jupyter-widgets/output",
      "model_module_version": "1.0.0",
      "model_name": "OutputModel",
      "state": {
       "layout": "IPY_MODEL_0c0f46ade43d49b7823704ba0d4c1b51"
      }
     },
     "0a4bae4ab2a54ec2969b1b7c2ca0efc8": {
      "model_module": "@jupyter-widgets/controls",
      "model_module_version": "1.5.0",
      "model_name": "DescriptionStyleModel",
      "state": {
       "description_width": ""
      }
     },
     "0af5bbcf6a3b4b578abae7effe169012": {
      "model_module": "@jupyter-widgets/controls",
      "model_module_version": "1.5.0",
      "model_name": "SliderStyleModel",
      "state": {
       "description_width": ""
      }
     },
     "0b02c946c20c47eaac06c591626daf6d": {
      "model_module": "@jupyter-widgets/controls",
      "model_module_version": "1.5.0",
      "model_name": "FloatSliderModel",
      "state": {
       "description": "a1",
       "layout": "IPY_MODEL_d1a23bee84374758933007e13e2221c0",
       "max": 3,
       "step": 0.01,
       "style": "IPY_MODEL_1a7336cf06e244c59ac9ec192472eca3"
      }
     },
     "0b1288c56a4044df8d8fffec1f7bf073": {
      "model_module": "@jupyter-widgets/base",
      "model_module_version": "1.2.0",
      "model_name": "LayoutModel",
      "state": {}
     },
     "0c0f46ade43d49b7823704ba0d4c1b51": {
      "model_module": "@jupyter-widgets/base",
      "model_module_version": "1.2.0",
      "model_name": "LayoutModel",
      "state": {}
     },
     "0cf48786c03e4eaaa5b45b41fd3cad39": {
      "model_module": "@jupyter-widgets/base",
      "model_module_version": "1.2.0",
      "model_name": "LayoutModel",
      "state": {}
     },
     "0d63a6a5e9874e699a83eb17284cde18": {
      "model_module": "@jupyter-widgets/controls",
      "model_module_version": "1.5.0",
      "model_name": "FloatSliderModel",
      "state": {
       "description": "a1",
       "layout": "IPY_MODEL_085fb5196c8b4c72b881e712bccb5706",
       "max": 3,
       "step": 0.01,
       "style": "IPY_MODEL_96985bc8c59e4612b148be051f653883"
      }
     },
     "0ff1ded6620841208419517eafc60071": {
      "model_module": "@jupyter-widgets/base",
      "model_module_version": "1.2.0",
      "model_name": "LayoutModel",
      "state": {}
     },
     "121a8667deea481ca42fa8abf6b5882c": {
      "model_module": "@jupyter-widgets/controls",
      "model_module_version": "1.5.0",
      "model_name": "SliderStyleModel",
      "state": {
       "description_width": ""
      }
     },
     "12299d6716d44ff8b7b3d27abbe7329e": {
      "model_module": "@jupyter-widgets/controls",
      "model_module_version": "1.5.0",
      "model_name": "FloatSliderModel",
      "state": {
       "description": "a1",
       "layout": "IPY_MODEL_6921d7ec2a294810b63f0c1694289ee6",
       "max": 3,
       "step": 0.01,
       "style": "IPY_MODEL_cd9b0563f2844f31878f9de26edb0d09"
      }
     },
     "1299932417bb45d1b54429720eee18c1": {
      "model_module": "@jupyter-widgets/base",
      "model_module_version": "1.2.0",
      "model_name": "LayoutModel",
      "state": {}
     },
     "144df7cf416549c798466fd4686db486": {
      "model_module": "@jupyter-widgets/controls",
      "model_module_version": "1.5.0",
      "model_name": "FloatSliderModel",
      "state": {
       "description": "a0",
       "layout": "IPY_MODEL_557869f166fd4b518bc7784658814a94",
       "max": 15,
       "min": -5,
       "step": 0.01,
       "style": "IPY_MODEL_06b1cc9515f849809b71e1324921a644",
       "value": 1.84
      }
     },
     "14838b5d138d4457b24283ecec64edf5": {
      "model_module": "@jupyter-widgets/controls",
      "model_module_version": "1.5.0",
      "model_name": "SliderStyleModel",
      "state": {
       "description_width": ""
      }
     },
     "15747173905242b3a4740afdb91dfbd1": {
      "model_module": "@jupyter-widgets/controls",
      "model_module_version": "1.5.0",
      "model_name": "SliderStyleModel",
      "state": {
       "description_width": ""
      }
     },
     "15896872a01a440aa43ad89f24af9b63": {
      "model_module": "@jupyter-widgets/base",
      "model_module_version": "1.2.0",
      "model_name": "LayoutModel",
      "state": {}
     },
     "1655ce82b15449fe847fd94f96acc0b8": {
      "model_module": "@jupyter-widgets/controls",
      "model_module_version": "1.5.0",
      "model_name": "VBoxModel",
      "state": {
       "_dom_classes": [
        "widget-interact"
       ],
       "children": [
        "IPY_MODEL_c3a7a04aba1249d7b123e731f3aed5ac",
        "IPY_MODEL_f96b170866174a74bda77c5070dd7c8b",
        "IPY_MODEL_43a02c0224f9476caea0be921c0c8cff",
        "IPY_MODEL_70fb5c8f749042e794c5405559c12084"
       ],
       "layout": "IPY_MODEL_289b921988fe4228a3bfa3c4e6334dd5"
      }
     },
     "16665a79531f43a08ecf56e5edfae4d4": {
      "model_module": "@jupyter-widgets/controls",
      "model_module_version": "1.5.0",
      "model_name": "FloatSliderModel",
      "state": {
       "description": "a1",
       "layout": "IPY_MODEL_a88830eb8bee49378a1ec02a26c0f5ee",
       "max": 3,
       "step": 0.01,
       "style": "IPY_MODEL_37d0db01aac14ff3adcc8493255bc768"
      }
     },
     "16886f06d2484679b5b9bbe9a34937e1": {
      "model_module": "@jupyter-widgets/base",
      "model_module_version": "1.2.0",
      "model_name": "LayoutModel",
      "state": {}
     },
     "172c811f34a84019a00db7607ce5c9f9": {
      "model_module": "@jupyter-widgets/controls",
      "model_module_version": "1.5.0",
      "model_name": "FloatSliderModel",
      "state": {
       "description": "b",
       "layout": "IPY_MODEL_16886f06d2484679b5b9bbe9a34937e1",
       "max": 3,
       "min": -3,
       "step": 0.5,
       "style": "IPY_MODEL_62db6c96813d4e0aba055359f7d066c2"
      }
     },
     "19d90c485f764015b5dfc557f1566ac5": {
      "model_module": "@jupyter-widgets/controls",
      "model_module_version": "1.5.0",
      "model_name": "IntSliderModel",
      "state": {
       "description": "y",
       "layout": "IPY_MODEL_6ea645aebdd742c2a9315caa2538b3e4",
       "max": 10,
       "style": "IPY_MODEL_31e7b65ccfba4678869f406f90330c3a",
       "value": 5
      }
     },
     "1a7336cf06e244c59ac9ec192472eca3": {
      "model_module": "@jupyter-widgets/controls",
      "model_module_version": "1.5.0",
      "model_name": "SliderStyleModel",
      "state": {
       "description_width": ""
      }
     },
     "1abd284253f346ad8d8431856fef3237": {
      "model_module": "@jupyter-widgets/controls",
      "model_module_version": "1.5.0",
      "model_name": "FloatSliderModel",
      "state": {
       "description": "a0",
       "layout": "IPY_MODEL_f011e420923242418cd269731296d724",
       "max": 15,
       "min": -5,
       "step": 0.01,
       "style": "IPY_MODEL_98d7dc6250524a8fb72a614e7cce0150",
       "value": 5
      }
     },
     "1b96075a7a3b4571831149a66745e988": {
      "model_module": "@jupyter-widgets/controls",
      "model_module_version": "1.5.0",
      "model_name": "SliderStyleModel",
      "state": {
       "description_width": ""
      }
     },
     "1c6fb540757a4963a4eb6ce34a4299b3": {
      "model_module": "@jupyter-widgets/controls",
      "model_module_version": "1.5.0",
      "model_name": "FloatSliderModel",
      "state": {
       "description": "a0",
       "layout": "IPY_MODEL_f65339cde1684216816d0c8c4030ff4d",
       "max": 15,
       "min": -5,
       "step": 0.01,
       "style": "IPY_MODEL_bf7b931cfe0147718a8ade0bf52aceec",
       "value": 5
      }
     },
     "1d3cfee15ba34bb6b6ff428c08047b68": {
      "model_module": "@jupyter-widgets/output",
      "model_module_version": "1.0.0",
      "model_name": "OutputModel",
      "state": {
       "layout": "IPY_MODEL_787c8a426e3d4917bbc97fbbed8967cc",
       "outputs": [
        {
         "ename": "NameError",
         "evalue": "name 'figure' is not defined",
         "output_type": "error",
         "traceback": [
          "\u001b[0;31m---------------------------------------------------------------------------\u001b[0m",
          "\u001b[0;31mNameError\u001b[0m                                 Traceback (most recent call last)",
          "\u001b[0;32m~/opt/anaconda3/envs/mdtools/lib/python3.8/site-packages/ipywidgets/widgets/interaction.py\u001b[0m in \u001b[0;36mupdate\u001b[0;34m(self, *args)\u001b[0m\n\u001b[1;32m    254\u001b[0m                     \u001b[0mvalue\u001b[0m \u001b[0;34m=\u001b[0m \u001b[0mwidget\u001b[0m\u001b[0;34m.\u001b[0m\u001b[0mget_interact_value\u001b[0m\u001b[0;34m(\u001b[0m\u001b[0;34m)\u001b[0m\u001b[0;34m\u001b[0m\u001b[0;34m\u001b[0m\u001b[0m\n\u001b[1;32m    255\u001b[0m                     \u001b[0mself\u001b[0m\u001b[0;34m.\u001b[0m\u001b[0mkwargs\u001b[0m\u001b[0;34m[\u001b[0m\u001b[0mwidget\u001b[0m\u001b[0;34m.\u001b[0m\u001b[0m_kwarg\u001b[0m\u001b[0;34m]\u001b[0m \u001b[0;34m=\u001b[0m \u001b[0mvalue\u001b[0m\u001b[0;34m\u001b[0m\u001b[0;34m\u001b[0m\u001b[0m\n\u001b[0;32m--> 256\u001b[0;31m                 \u001b[0mself\u001b[0m\u001b[0;34m.\u001b[0m\u001b[0mresult\u001b[0m \u001b[0;34m=\u001b[0m \u001b[0mself\u001b[0m\u001b[0;34m.\u001b[0m\u001b[0mf\u001b[0m\u001b[0;34m(\u001b[0m\u001b[0;34m**\u001b[0m\u001b[0mself\u001b[0m\u001b[0;34m.\u001b[0m\u001b[0mkwargs\u001b[0m\u001b[0;34m)\u001b[0m\u001b[0;34m\u001b[0m\u001b[0;34m\u001b[0m\u001b[0m\n\u001b[0m\u001b[1;32m    257\u001b[0m                 \u001b[0mshow_inline_matplotlib_plots\u001b[0m\u001b[0;34m(\u001b[0m\u001b[0;34m)\u001b[0m\u001b[0;34m\u001b[0m\u001b[0;34m\u001b[0m\u001b[0m\n\u001b[1;32m    258\u001b[0m                 \u001b[0;32mif\u001b[0m \u001b[0mself\u001b[0m\u001b[0;34m.\u001b[0m\u001b[0mauto_display\u001b[0m \u001b[0;32mand\u001b[0m \u001b[0mself\u001b[0m\u001b[0;34m.\u001b[0m\u001b[0mresult\u001b[0m \u001b[0;32mis\u001b[0m \u001b[0;32mnot\u001b[0m \u001b[0;32mNone\u001b[0m\u001b[0;34m:\u001b[0m\u001b[0;34m\u001b[0m\u001b[0;34m\u001b[0m\u001b[0m\n",
          "\u001b[0;32m<ipython-input-2-ffd8f23bbf67>\u001b[0m in \u001b[0;36moptimize\u001b[0;34m(a0, a1, fit_reg)\u001b[0m\n\u001b[1;32m     26\u001b[0m \u001b[0;34m\u001b[0m\u001b[0m\n\u001b[1;32m     27\u001b[0m \u001b[0;32mdef\u001b[0m \u001b[0moptimize\u001b[0m\u001b[0;34m(\u001b[0m\u001b[0ma0\u001b[0m\u001b[0;34m,\u001b[0m \u001b[0ma1\u001b[0m\u001b[0;34m,\u001b[0m \u001b[0mfit_reg\u001b[0m\u001b[0;34m=\u001b[0m\u001b[0;32mFalse\u001b[0m\u001b[0;34m)\u001b[0m\u001b[0;34m:\u001b[0m\u001b[0;34m\u001b[0m\u001b[0;34m\u001b[0m\u001b[0m\n\u001b[0;32m---> 28\u001b[0;31m     \u001b[0mfigure\u001b[0m\u001b[0;34m(\u001b[0m\u001b[0mfigsize\u001b[0m\u001b[0;34m=\u001b[0m\u001b[0;34m(\u001b[0m\u001b[0;36m4\u001b[0m\u001b[0;34m,\u001b[0m\u001b[0;36m4\u001b[0m\u001b[0;34m)\u001b[0m\u001b[0;34m)\u001b[0m\u001b[0;34m\u001b[0m\u001b[0;34m\u001b[0m\u001b[0m\n\u001b[0m\u001b[1;32m     29\u001b[0m     \u001b[0mhist_a0\u001b[0m\u001b[0;34m.\u001b[0m\u001b[0mappend\u001b[0m\u001b[0;34m(\u001b[0m\u001b[0ma0\u001b[0m\u001b[0;34m)\u001b[0m\u001b[0;34m\u001b[0m\u001b[0;34m\u001b[0m\u001b[0m\n\u001b[1;32m     30\u001b[0m     \u001b[0mhist_a1\u001b[0m\u001b[0;34m.\u001b[0m\u001b[0mappend\u001b[0m\u001b[0;34m(\u001b[0m\u001b[0ma1\u001b[0m\u001b[0;34m)\u001b[0m\u001b[0;34m\u001b[0m\u001b[0;34m\u001b[0m\u001b[0m\n",
          "\u001b[0;31mNameError\u001b[0m: name 'figure' is not defined"
         ]
        }
       ]
      }
     },
     "1d473ec7a4bd45a8a1a0afb94edb7f69": {
      "model_module": "@jupyter-widgets/controls",
      "model_module_version": "1.5.0",
      "model_name": "FloatSliderModel",
      "state": {
       "description": "a1",
       "layout": "IPY_MODEL_43f6bb9346da4a12894fb760074bc0e7",
       "max": 3,
       "step": 0.01,
       "style": "IPY_MODEL_121a8667deea481ca42fa8abf6b5882c",
       "value": 1.15
      }
     },
     "1fedae0ba8b34622868bd9ee2a7c3723": {
      "model_module": "@jupyter-widgets/controls",
      "model_module_version": "1.5.0",
      "model_name": "CheckboxModel",
      "state": {
       "description": "fit_reg",
       "disabled": false,
       "layout": "IPY_MODEL_4624aec14273442097462d84c95ffe7e",
       "style": "IPY_MODEL_8e8620b2b56f4fcdbc76e2b4ee98a1c8",
       "value": false
      }
     },
     "1ff27ffa7dfe42bca54264e72dc54234": {
      "model_module": "@jupyter-widgets/base",
      "model_module_version": "1.2.0",
      "model_name": "LayoutModel",
      "state": {}
     },
     "200059b09a2f449ea60a7451885c4204": {
      "model_module": "@jupyter-widgets/controls",
      "model_module_version": "1.5.0",
      "model_name": "SliderStyleModel",
      "state": {
       "description_width": ""
      }
     },
     "215a42e0c61c41568abfff0416095a04": {
      "model_module": "@jupyter-widgets/controls",
      "model_module_version": "1.5.0",
      "model_name": "CheckboxModel",
      "state": {
       "description": "fit_reg",
       "disabled": false,
       "layout": "IPY_MODEL_44b956df10574e848a3fab0b35db1deb",
       "style": "IPY_MODEL_0a4bae4ab2a54ec2969b1b7c2ca0efc8",
       "value": false
      }
     },
     "21e0077cc74a4304875e7e2eeec151e0": {
      "model_module": "@jupyter-widgets/controls",
      "model_module_version": "1.5.0",
      "model_name": "FloatSliderModel",
      "state": {
       "description": "a0",
       "layout": "IPY_MODEL_8a7f3ad1fcfd4fbd858848b4089b77fe",
       "max": 15,
       "min": -5,
       "step": 0.01,
       "style": "IPY_MODEL_68c52d436db8404cbdd5a27ae5d6fe41",
       "value": 5
      }
     },
     "21e7c83b79784eb7bb9e369c99ffe36d": {
      "model_module": "@jupyter-widgets/controls",
      "model_module_version": "1.5.0",
      "model_name": "CheckboxModel",
      "state": {
       "description": "fit_reg",
       "disabled": false,
       "layout": "IPY_MODEL_7d8545c1488742759a98448a0bbb4073",
       "style": "IPY_MODEL_32a5367b80514c2d873c69138db7031c",
       "value": false
      }
     },
     "2206a3e3321b4fb383cf9162e80a0193": {
      "model_module": "@jupyter-widgets/output",
      "model_module_version": "1.0.0",
      "model_name": "OutputModel",
      "state": {
       "layout": "IPY_MODEL_6de9e566a0664f4c978215c92565c792",
       "outputs": [
        {
         "ename": "NameError",
         "evalue": "name 'grid' is not defined",
         "output_type": "error",
         "traceback": [
          "\u001b[0;31m---------------------------------------------------------------------------\u001b[0m",
          "\u001b[0;31mNameError\u001b[0m                                 Traceback (most recent call last)",
          "\u001b[0;32m~/opt/anaconda3/envs/mdtools/lib/python3.8/site-packages/ipywidgets/widgets/interaction.py\u001b[0m in \u001b[0;36mupdate\u001b[0;34m(self, *args)\u001b[0m\n\u001b[1;32m    254\u001b[0m                     \u001b[0mvalue\u001b[0m \u001b[0;34m=\u001b[0m \u001b[0mwidget\u001b[0m\u001b[0;34m.\u001b[0m\u001b[0mget_interact_value\u001b[0m\u001b[0;34m(\u001b[0m\u001b[0;34m)\u001b[0m\u001b[0;34m\u001b[0m\u001b[0;34m\u001b[0m\u001b[0m\n\u001b[1;32m    255\u001b[0m                     \u001b[0mself\u001b[0m\u001b[0;34m.\u001b[0m\u001b[0mkwargs\u001b[0m\u001b[0;34m[\u001b[0m\u001b[0mwidget\u001b[0m\u001b[0;34m.\u001b[0m\u001b[0m_kwarg\u001b[0m\u001b[0;34m]\u001b[0m \u001b[0;34m=\u001b[0m \u001b[0mvalue\u001b[0m\u001b[0;34m\u001b[0m\u001b[0;34m\u001b[0m\u001b[0m\n\u001b[0;32m--> 256\u001b[0;31m                 \u001b[0mself\u001b[0m\u001b[0;34m.\u001b[0m\u001b[0mresult\u001b[0m \u001b[0;34m=\u001b[0m \u001b[0mself\u001b[0m\u001b[0;34m.\u001b[0m\u001b[0mf\u001b[0m\u001b[0;34m(\u001b[0m\u001b[0;34m**\u001b[0m\u001b[0mself\u001b[0m\u001b[0;34m.\u001b[0m\u001b[0mkwargs\u001b[0m\u001b[0;34m)\u001b[0m\u001b[0;34m\u001b[0m\u001b[0;34m\u001b[0m\u001b[0m\n\u001b[0m\u001b[1;32m    257\u001b[0m                 \u001b[0mshow_inline_matplotlib_plots\u001b[0m\u001b[0;34m(\u001b[0m\u001b[0;34m)\u001b[0m\u001b[0;34m\u001b[0m\u001b[0;34m\u001b[0m\u001b[0m\n\u001b[1;32m    258\u001b[0m                 \u001b[0;32mif\u001b[0m \u001b[0mself\u001b[0m\u001b[0;34m.\u001b[0m\u001b[0mauto_display\u001b[0m \u001b[0;32mand\u001b[0m \u001b[0mself\u001b[0m\u001b[0;34m.\u001b[0m\u001b[0mresult\u001b[0m \u001b[0;32mis\u001b[0m \u001b[0;32mnot\u001b[0m \u001b[0;32mNone\u001b[0m\u001b[0;34m:\u001b[0m\u001b[0;34m\u001b[0m\u001b[0;34m\u001b[0m\u001b[0m\n",
          "\u001b[0;32m<ipython-input-4-03a0375271ec>\u001b[0m in \u001b[0;36moptimize\u001b[0;34m(a0, a1, fit_reg)\u001b[0m\n\u001b[1;32m     34\u001b[0m     \u001b[0mplt\u001b[0m\u001b[0;34m.\u001b[0m\u001b[0mtitle\u001b[0m\u001b[0;34m(\u001b[0m\u001b[0;34mf'$a_0={a0}$, $a_1={a1}$'\u001b[0m\u001b[0;34m)\u001b[0m\u001b[0;34m\u001b[0m\u001b[0;34m\u001b[0m\u001b[0m\n\u001b[1;32m     35\u001b[0m     \u001b[0msns\u001b[0m\u001b[0;34m.\u001b[0m\u001b[0mregplot\u001b[0m\u001b[0;34m(\u001b[0m\u001b[0mx\u001b[0m\u001b[0;34m,\u001b[0m \u001b[0my\u001b[0m\u001b[0;34m,\u001b[0m \u001b[0mfit_reg\u001b[0m\u001b[0;34m=\u001b[0m\u001b[0mfit_reg\u001b[0m\u001b[0;34m,\u001b[0m \u001b[0mlabel\u001b[0m\u001b[0;34m=\u001b[0m\u001b[0;34m'$y$'\u001b[0m\u001b[0;34m)\u001b[0m\u001b[0;34m\u001b[0m\u001b[0;34m\u001b[0m\u001b[0m\n\u001b[0;32m---> 36\u001b[0;31m     \u001b[0mgrid\u001b[0m\u001b[0;34m(\u001b[0m\u001b[0;34m)\u001b[0m\u001b[0;34m\u001b[0m\u001b[0;34m\u001b[0m\u001b[0m\n\u001b[0m\u001b[1;32m     37\u001b[0m     \u001b[0mloss\u001b[0m \u001b[0;34m=\u001b[0m \u001b[0mget_loss\u001b[0m\u001b[0;34m(\u001b[0m\u001b[0ma0\u001b[0m\u001b[0;34m,\u001b[0m \u001b[0ma1\u001b[0m\u001b[0;34m)\u001b[0m\u001b[0;34m\u001b[0m\u001b[0;34m\u001b[0m\u001b[0m\n\u001b[1;32m     38\u001b[0m     \u001b[0mtext\u001b[0m\u001b[0;34m(\u001b[0m\u001b[0;36m0.01\u001b[0m\u001b[0;34m,\u001b[0m \u001b[0;36m0.95\u001b[0m\u001b[0;34m,\u001b[0m \u001b[0;34mf'Loss: {loss:.4f}'\u001b[0m\u001b[0;34m,\u001b[0m \u001b[0mtransform\u001b[0m\u001b[0;34m=\u001b[0m\u001b[0mgca\u001b[0m\u001b[0;34m(\u001b[0m\u001b[0;34m)\u001b[0m\u001b[0;34m.\u001b[0m\u001b[0mtransAxes\u001b[0m\u001b[0;34m)\u001b[0m\u001b[0;34m\u001b[0m\u001b[0;34m\u001b[0m\u001b[0m\n",
          "\u001b[0;31mNameError\u001b[0m: name 'grid' is not defined"
         ]
        }
       ]
      }
     },
     "23071e1c785e4d3cb5544acb064ad34a": {
      "model_module": "@jupyter-widgets/controls",
      "model_module_version": "1.5.0",
      "model_name": "SliderStyleModel",
      "state": {
       "description_width": ""
      }
     },
     "23cb0b2729b743a2a9fde6b561593116": {
      "model_module": "@jupyter-widgets/base",
      "model_module_version": "1.2.0",
      "model_name": "LayoutModel",
      "state": {}
     },
     "242f0caef9cd4bbdac2a4879fd4733c4": {
      "model_module": "@jupyter-widgets/output",
      "model_module_version": "1.0.0",
      "model_name": "OutputModel",
      "state": {
       "layout": "IPY_MODEL_e5604034c36342e9bbf30e2448d3086c"
      }
     },
     "24927905c42047a49d5db203e6757786": {
      "model_module": "@jupyter-widgets/controls",
      "model_module_version": "1.5.0",
      "model_name": "CheckboxModel",
      "state": {
       "description": "fit_reg",
       "disabled": false,
       "layout": "IPY_MODEL_7f9ecdac38264851b66296c4bf994bce",
       "style": "IPY_MODEL_9ba7d1f5f7364d529804718cab53704d",
       "value": false
      }
     },
     "24c16ecd7a6448e992681a4d900e5459": {
      "model_module": "@jupyter-widgets/output",
      "model_module_version": "1.0.0",
      "model_name": "OutputModel",
      "state": {
       "layout": "IPY_MODEL_d3bbf21aa97a4efb827e29a58de593d9"
      }
     },
     "2557418137d5405ab3eda8e2f1f52095": {
      "model_module": "@jupyter-widgets/base",
      "model_module_version": "1.2.0",
      "model_name": "LayoutModel",
      "state": {}
     },
     "25f0d69e5e694c7a90826ce68bfe4d75": {
      "model_module": "@jupyter-widgets/controls",
      "model_module_version": "1.5.0",
      "model_name": "VBoxModel",
      "state": {
       "_dom_classes": [
        "widget-interact"
       ],
       "children": [
        "IPY_MODEL_30b0118dd9b84c14a1d280586aa81838",
        "IPY_MODEL_4820d860277d442bb2d42fc769b26b15",
        "IPY_MODEL_65686f23f71c4e6cbc5477bc2317f71d"
       ],
       "layout": "IPY_MODEL_904edfb64c434688a02b87f871ac9630"
      }
     },
     "289b921988fe4228a3bfa3c4e6334dd5": {
      "model_module": "@jupyter-widgets/base",
      "model_module_version": "1.2.0",
      "model_name": "LayoutModel",
      "state": {}
     },
     "2a606436a2434257ab4701e802b43f06": {
      "model_module": "@jupyter-widgets/base",
      "model_module_version": "1.2.0",
      "model_name": "LayoutModel",
      "state": {}
     },
     "2ad88a006b774155b711551b3a1b44b2": {
      "model_module": "@jupyter-widgets/controls",
      "model_module_version": "1.5.0",
      "model_name": "VBoxModel",
      "state": {
       "_dom_classes": [
        "widget-interact"
       ],
       "children": [
        "IPY_MODEL_19d90c485f764015b5dfc557f1566ac5",
        "IPY_MODEL_b1c3eca448dc4d95b7761b5fdaa9ac8f"
       ],
       "layout": "IPY_MODEL_d302ec7aa9614d9f8d164428fc5f90b4"
      }
     },
     "2af2eee0ddc74f08bb7e9a3d43e0d178": {
      "model_module": "@jupyter-widgets/controls",
      "model_module_version": "1.5.0",
      "model_name": "VBoxModel",
      "state": {
       "_dom_classes": [
        "widget-interact"
       ],
       "children": [
        "IPY_MODEL_dd9678181d184b62a26fc2030f1c7034",
        "IPY_MODEL_f014c33cbe9b4e9e8c0ef51c898c191a",
        "IPY_MODEL_895cb2798914468f8c44706d37134dfa",
        "IPY_MODEL_5374b39a95c0435cafa9a6897cd09d58"
       ],
       "layout": "IPY_MODEL_a266dd83dc1c479493ee39197095401e"
      }
     },
     "2d8c634d730c4caf9e81c84b188bd722": {
      "model_module": "@jupyter-widgets/controls",
      "model_module_version": "1.5.0",
      "model_name": "VBoxModel",
      "state": {
       "_dom_classes": [
        "widget-interact"
       ],
       "children": [
        "IPY_MODEL_a4544664f2464c5c82c8f0289b2a9d13",
        "IPY_MODEL_6da8ea97812f4781b1507d5fde40b2cd"
       ],
       "layout": "IPY_MODEL_ad76b98a812441509133f68c418987e9"
      }
     },
     "2ed822d8918f4811bb3d14002061f39d": {
      "model_module": "@jupyter-widgets/base",
      "model_module_version": "1.2.0",
      "model_name": "LayoutModel",
      "state": {}
     },
     "2f3543c5dfb048dab58f136507d5a396": {
      "model_module": "@jupyter-widgets/base",
      "model_module_version": "1.2.0",
      "model_name": "LayoutModel",
      "state": {}
     },
     "30592aa32ac34283b762fb5723f70fe6": {
      "model_module": "@jupyter-widgets/controls",
      "model_module_version": "1.5.0",
      "model_name": "FloatSliderModel",
      "state": {
       "description": "a1",
       "layout": "IPY_MODEL_3c7955354916422c8490b9791d63312f",
       "max": 3,
       "step": 0.01,
       "style": "IPY_MODEL_44774a793a824757845a1213602e4d03"
      }
     },
     "30753ca280da46a7b65604dfcf7eaa0d": {
      "model_module": "@jupyter-widgets/output",
      "model_module_version": "1.0.0",
      "model_name": "OutputModel",
      "state": {
       "layout": "IPY_MODEL_7e29f3cba3764c61807a253484bb7703"
      }
     },
     "30b0118dd9b84c14a1d280586aa81838": {
      "model_module": "@jupyter-widgets/controls",
      "model_module_version": "1.5.0",
      "model_name": "FloatSliderModel",
      "state": {
       "description": "m",
       "layout": "IPY_MODEL_a9107e4661d040279397715c86248224",
       "max": 2,
       "min": -2,
       "step": 0.1,
       "style": "IPY_MODEL_7948769ce3114f5d85fb7dbe702439af"
      }
     },
     "3187a3143a2746faa7dfdd37832e33e1": {
      "model_module": "@jupyter-widgets/controls",
      "model_module_version": "1.5.0",
      "model_name": "FloatSliderModel",
      "state": {
       "description": "m",
       "layout": "IPY_MODEL_6273fddb403b47c1b88fe8ac50df1677",
       "max": 2,
       "min": -2,
       "step": 0.1,
       "style": "IPY_MODEL_42e670e11b6d4602958ce2ca22ea23f7"
      }
     },
     "31c566ba4458458ba438a390aba35ac9": {
      "model_module": "@jupyter-widgets/controls",
      "model_module_version": "1.5.0",
      "model_name": "CheckboxModel",
      "state": {
       "description": "fit_reg",
       "disabled": false,
       "layout": "IPY_MODEL_486fbf8ee219425fb017b682eb9568bd",
       "style": "IPY_MODEL_6b7b73a03a604b07906cff7eb896a155",
       "value": false
      }
     },
     "31d1973b903d46fe8f188cd6618320dd": {
      "model_module": "@jupyter-widgets/controls",
      "model_module_version": "1.5.0",
      "model_name": "SliderStyleModel",
      "state": {
       "description_width": ""
      }
     },
     "31e7b65ccfba4678869f406f90330c3a": {
      "model_module": "@jupyter-widgets/controls",
      "model_module_version": "1.5.0",
      "model_name": "SliderStyleModel",
      "state": {
       "description_width": ""
      }
     },
     "32a5367b80514c2d873c69138db7031c": {
      "model_module": "@jupyter-widgets/controls",
      "model_module_version": "1.5.0",
      "model_name": "DescriptionStyleModel",
      "state": {
       "description_width": ""
      }
     },
     "34f5c40ed2b647379d7fec700df86605": {
      "model_module": "@jupyter-widgets/controls",
      "model_module_version": "1.5.0",
      "model_name": "VBoxModel",
      "state": {
       "_dom_classes": [
        "widget-interact"
       ],
       "children": [
        "IPY_MODEL_c0df1bc054d04a95b2a02f313e71cc5f",
        "IPY_MODEL_beb83b33bc0544efbae3192a1edb2e84",
        "IPY_MODEL_215a42e0c61c41568abfff0416095a04",
        "IPY_MODEL_beddd2da3b2543a9a1b56e2303168b1b"
       ],
       "layout": "IPY_MODEL_06b464f597cd41ff89563784211d5559"
      }
     },
     "35d88941868847e2ad264721ea1503bd": {
      "model_module": "@jupyter-widgets/base",
      "model_module_version": "1.2.0",
      "model_name": "LayoutModel",
      "state": {}
     },
     "367634e2048f47fa8a62bfd9dfdacbc3": {
      "model_module": "@jupyter-widgets/controls",
      "model_module_version": "1.5.0",
      "model_name": "SliderStyleModel",
      "state": {
       "description_width": ""
      }
     },
     "37d0db01aac14ff3adcc8493255bc768": {
      "model_module": "@jupyter-widgets/controls",
      "model_module_version": "1.5.0",
      "model_name": "SliderStyleModel",
      "state": {
       "description_width": ""
      }
     },
     "37dbd7ebec7147919a1c024a2beef2a8": {
      "model_module": "@jupyter-widgets/controls",
      "model_module_version": "1.5.0",
      "model_name": "SliderStyleModel",
      "state": {
       "description_width": ""
      }
     },
     "383f675fcd0d4ecda1a9ad05c45d81f1": {
      "model_module": "@jupyter-widgets/controls",
      "model_module_version": "1.5.0",
      "model_name": "IntSliderModel",
      "state": {
       "description": "y",
       "layout": "IPY_MODEL_3b02857ed6e24187a3e7ecb00229c6bf",
       "max": 10,
       "style": "IPY_MODEL_367634e2048f47fa8a62bfd9dfdacbc3",
       "value": 5
      }
     },
     "3870a12be2124f019410e32da9277455": {
      "model_module": "@jupyter-widgets/base",
      "model_module_version": "1.2.0",
      "model_name": "LayoutModel",
      "state": {
       "height": "350px"
      }
     },
     "38c55d12de0e43d987f9f24b93ef9b58": {
      "model_module": "@jupyter-widgets/base",
      "model_module_version": "1.2.0",
      "model_name": "LayoutModel",
      "state": {}
     },
     "38d0a426c85146a485bab7e46f29493e": {
      "model_module": "@jupyter-widgets/controls",
      "model_module_version": "1.5.0",
      "model_name": "DescriptionStyleModel",
      "state": {
       "description_width": ""
      }
     },
     "39bbfade249348669b7385cfb0926b1c": {
      "model_module": "@jupyter-widgets/base",
      "model_module_version": "1.2.0",
      "model_name": "LayoutModel",
      "state": {
       "height": "350px"
      }
     },
     "3a316efc18794a848f80531b3db52705": {
      "model_module": "@jupyter-widgets/base",
      "model_module_version": "1.2.0",
      "model_name": "LayoutModel",
      "state": {}
     },
     "3b02857ed6e24187a3e7ecb00229c6bf": {
      "model_module": "@jupyter-widgets/base",
      "model_module_version": "1.2.0",
      "model_name": "LayoutModel",
      "state": {}
     },
     "3bedd800bb2f4466a528d3c9dc410335": {
      "model_module": "@jupyter-widgets/base",
      "model_module_version": "1.2.0",
      "model_name": "LayoutModel",
      "state": {}
     },
     "3bef91540acc446183906c837b49006c": {
      "model_module": "@jupyter-widgets/base",
      "model_module_version": "1.2.0",
      "model_name": "LayoutModel",
      "state": {}
     },
     "3c1f1dc466bc4f4098b6357dd3d98618": {
      "model_module": "@jupyter-widgets/base",
      "model_module_version": "1.2.0",
      "model_name": "LayoutModel",
      "state": {}
     },
     "3c3ef3edeeda439c81b68e66bf9ad3a7": {
      "model_module": "@jupyter-widgets/base",
      "model_module_version": "1.2.0",
      "model_name": "LayoutModel",
      "state": {}
     },
     "3c7955354916422c8490b9791d63312f": {
      "model_module": "@jupyter-widgets/base",
      "model_module_version": "1.2.0",
      "model_name": "LayoutModel",
      "state": {}
     },
     "3d0635a409794b70a9705d83c5a6cc30": {
      "model_module": "@jupyter-widgets/output",
      "model_module_version": "1.0.0",
      "model_name": "OutputModel",
      "state": {
       "layout": "IPY_MODEL_1299932417bb45d1b54429720eee18c1",
       "outputs": [
        {
         "ename": "NameError",
         "evalue": "name 'plot' is not defined",
         "output_type": "error",
         "traceback": [
          "\u001b[0;31m---------------------------------------------------------------------------\u001b[0m",
          "\u001b[0;31mNameError\u001b[0m                                 Traceback (most recent call last)",
          "\u001b[0;32m~/opt/anaconda3/envs/mdtools/lib/python3.8/site-packages/ipywidgets/widgets/interaction.py\u001b[0m in \u001b[0;36mupdate\u001b[0;34m(self, *args)\u001b[0m\n\u001b[1;32m    254\u001b[0m                     \u001b[0mvalue\u001b[0m \u001b[0;34m=\u001b[0m \u001b[0mwidget\u001b[0m\u001b[0;34m.\u001b[0m\u001b[0mget_interact_value\u001b[0m\u001b[0;34m(\u001b[0m\u001b[0;34m)\u001b[0m\u001b[0;34m\u001b[0m\u001b[0;34m\u001b[0m\u001b[0m\n\u001b[1;32m    255\u001b[0m                     \u001b[0mself\u001b[0m\u001b[0;34m.\u001b[0m\u001b[0mkwargs\u001b[0m\u001b[0;34m[\u001b[0m\u001b[0mwidget\u001b[0m\u001b[0;34m.\u001b[0m\u001b[0m_kwarg\u001b[0m\u001b[0;34m]\u001b[0m \u001b[0;34m=\u001b[0m \u001b[0mvalue\u001b[0m\u001b[0;34m\u001b[0m\u001b[0;34m\u001b[0m\u001b[0m\n\u001b[0;32m--> 256\u001b[0;31m                 \u001b[0mself\u001b[0m\u001b[0;34m.\u001b[0m\u001b[0mresult\u001b[0m \u001b[0;34m=\u001b[0m \u001b[0mself\u001b[0m\u001b[0;34m.\u001b[0m\u001b[0mf\u001b[0m\u001b[0;34m(\u001b[0m\u001b[0;34m**\u001b[0m\u001b[0mself\u001b[0m\u001b[0;34m.\u001b[0m\u001b[0mkwargs\u001b[0m\u001b[0;34m)\u001b[0m\u001b[0;34m\u001b[0m\u001b[0;34m\u001b[0m\u001b[0m\n\u001b[0m\u001b[1;32m    257\u001b[0m                 \u001b[0mshow_inline_matplotlib_plots\u001b[0m\u001b[0;34m(\u001b[0m\u001b[0;34m)\u001b[0m\u001b[0;34m\u001b[0m\u001b[0;34m\u001b[0m\u001b[0m\n\u001b[1;32m    258\u001b[0m                 \u001b[0;32mif\u001b[0m \u001b[0mself\u001b[0m\u001b[0;34m.\u001b[0m\u001b[0mauto_display\u001b[0m \u001b[0;32mand\u001b[0m \u001b[0mself\u001b[0m\u001b[0;34m.\u001b[0m\u001b[0mresult\u001b[0m \u001b[0;32mis\u001b[0m \u001b[0;32mnot\u001b[0m \u001b[0;32mNone\u001b[0m\u001b[0;34m:\u001b[0m\u001b[0;34m\u001b[0m\u001b[0;34m\u001b[0m\u001b[0m\n",
          "\u001b[0;32m<ipython-input-3-49de8116c78a>\u001b[0m in \u001b[0;36moptimize\u001b[0;34m(a0, a1, fit_reg)\u001b[0m\n\u001b[1;32m     31\u001b[0m     \u001b[0mxs\u001b[0m \u001b[0;34m=\u001b[0m \u001b[0;34m[\u001b[0m\u001b[0;36m0\u001b[0m\u001b[0;34m,\u001b[0m \u001b[0;36m20\u001b[0m\u001b[0;34m]\u001b[0m\u001b[0;34m\u001b[0m\u001b[0;34m\u001b[0m\u001b[0m\n\u001b[1;32m     32\u001b[0m     \u001b[0mys\u001b[0m \u001b[0;34m=\u001b[0m \u001b[0;34m[\u001b[0m\u001b[0mf\u001b[0m\u001b[0;34m(\u001b[0m\u001b[0mx\u001b[0m\u001b[0;34m,\u001b[0m \u001b[0ma0\u001b[0m\u001b[0;34m,\u001b[0m \u001b[0ma1\u001b[0m\u001b[0;34m)\u001b[0m \u001b[0;32mfor\u001b[0m \u001b[0mx\u001b[0m \u001b[0;32min\u001b[0m \u001b[0mxs\u001b[0m\u001b[0;34m]\u001b[0m\u001b[0;34m\u001b[0m\u001b[0;34m\u001b[0m\u001b[0m\n\u001b[0;32m---> 33\u001b[0;31m     \u001b[0mplot\u001b[0m\u001b[0;34m(\u001b[0m\u001b[0mxs\u001b[0m\u001b[0;34m,\u001b[0m \u001b[0mys\u001b[0m\u001b[0;34m,\u001b[0m \u001b[0mlabel\u001b[0m\u001b[0;34m=\u001b[0m\u001b[0;34m'$M(x)$'\u001b[0m\u001b[0;34m)\u001b[0m\u001b[0;34m\u001b[0m\u001b[0;34m\u001b[0m\u001b[0m\n\u001b[0m\u001b[1;32m     34\u001b[0m     \u001b[0mtitle\u001b[0m\u001b[0;34m(\u001b[0m\u001b[0;34mf'$a_0={a0}$, $a_1={a1}$'\u001b[0m\u001b[0;34m)\u001b[0m\u001b[0;34m\u001b[0m\u001b[0;34m\u001b[0m\u001b[0m\n\u001b[1;32m     35\u001b[0m     \u001b[0msns\u001b[0m\u001b[0;34m.\u001b[0m\u001b[0mregplot\u001b[0m\u001b[0;34m(\u001b[0m\u001b[0mx\u001b[0m\u001b[0;34m,\u001b[0m \u001b[0my\u001b[0m\u001b[0;34m,\u001b[0m \u001b[0mfit_reg\u001b[0m\u001b[0;34m=\u001b[0m\u001b[0mfit_reg\u001b[0m\u001b[0;34m,\u001b[0m \u001b[0mlabel\u001b[0m\u001b[0;34m=\u001b[0m\u001b[0;34m'$y$'\u001b[0m\u001b[0;34m)\u001b[0m\u001b[0;34m\u001b[0m\u001b[0;34m\u001b[0m\u001b[0m\n",
          "\u001b[0;31mNameError\u001b[0m: name 'plot' is not defined"
         ]
        }
       ]
      }
     },
     "3d4a29fb74cc4db3881703aa45b1b5d1": {
      "model_module": "@jupyter-widgets/controls",
      "model_module_version": "1.5.0",
      "model_name": "SliderStyleModel",
      "state": {
       "description_width": ""
      }
     },
     "3debe316273a41599269782179c5692b": {
      "model_module": "@jupyter-widgets/base",
      "model_module_version": "1.2.0",
      "model_name": "LayoutModel",
      "state": {}
     },
     "3ee3f3123380420085a27bb289b15009": {
      "model_module": "@jupyter-widgets/controls",
      "model_module_version": "1.5.0",
      "model_name": "DescriptionStyleModel",
      "state": {
       "description_width": ""
      }
     },
     "3f144ed12d3541d78be93d86d1225641": {
      "model_module": "@jupyter-widgets/base",
      "model_module_version": "1.2.0",
      "model_name": "LayoutModel",
      "state": {}
     },
     "40a005a83934430294a585d27eb9eae6": {
      "model_module": "@jupyter-widgets/base",
      "model_module_version": "1.2.0",
      "model_name": "LayoutModel",
      "state": {}
     },
     "40cf457865464e47bcee915fe19615dd": {
      "model_module": "@jupyter-widgets/output",
      "model_module_version": "1.0.0",
      "model_name": "OutputModel",
      "state": {
       "layout": "IPY_MODEL_a4eeb7b4336849db8928ad243cbd8ef9"
      }
     },
     "4149a93ccb424ffe85d357abd29a6d59": {
      "model_module": "@jupyter-widgets/output",
      "model_module_version": "1.0.0",
      "model_name": "OutputModel",
      "state": {
       "layout": "IPY_MODEL_b0afc9365366430f9dae59078b0f6290"
      }
     },
     "414ed7ca9370466ca1507ebcc6998764": {
      "model_module": "@jupyter-widgets/controls",
      "model_module_version": "1.5.0",
      "model_name": "VBoxModel",
      "state": {
       "_dom_classes": [
        "widget-interact"
       ],
       "children": [
        "IPY_MODEL_70643145a59245c5b39dcdaef7ad308c",
        "IPY_MODEL_653cdf6c53a24e17af3118a6bc41ed9a",
        "IPY_MODEL_7dca9fb78d49487eac24f732d5d8b8f0"
       ],
       "layout": "IPY_MODEL_4ebe6da592c74038b7a909d4cc49ead5"
      }
     },
     "4183dd2f9b2248678dbda28438eb5f6a": {
      "model_module": "@jupyter-widgets/base",
      "model_module_version": "1.2.0",
      "model_name": "LayoutModel",
      "state": {}
     },
     "4272d4936cae4c368aadc86aabe5dd9d": {
      "model_module": "@jupyter-widgets/controls",
      "model_module_version": "1.5.0",
      "model_name": "VBoxModel",
      "state": {
       "_dom_classes": [
        "widget-interact"
       ],
       "children": [
        "IPY_MODEL_fb4f300fd2d548dd9f003e995d13b1da",
        "IPY_MODEL_0d63a6a5e9874e699a83eb17284cde18",
        "IPY_MODEL_24927905c42047a49d5db203e6757786",
        "IPY_MODEL_3d0635a409794b70a9705d83c5a6cc30"
       ],
       "layout": "IPY_MODEL_de4d68997401446393c7f0433251ec7e"
      }
     },
     "42e670e11b6d4602958ce2ca22ea23f7": {
      "model_module": "@jupyter-widgets/controls",
      "model_module_version": "1.5.0",
      "model_name": "SliderStyleModel",
      "state": {
       "description_width": ""
      }
     },
     "42e7ec7776b141abbb6aee0e5ed95f27": {
      "model_module": "@jupyter-widgets/base",
      "model_module_version": "1.2.0",
      "model_name": "LayoutModel",
      "state": {}
     },
     "43a02c0224f9476caea0be921c0c8cff": {
      "model_module": "@jupyter-widgets/controls",
      "model_module_version": "1.5.0",
      "model_name": "CheckboxModel",
      "state": {
       "description": "fit_reg",
       "disabled": false,
       "layout": "IPY_MODEL_4b5fad7976804d05a26f64494715c3b2",
       "style": "IPY_MODEL_db2afd9483d64a09a70b52fed265c2e0",
       "value": false
      }
     },
     "43f6bb9346da4a12894fb760074bc0e7": {
      "model_module": "@jupyter-widgets/base",
      "model_module_version": "1.2.0",
      "model_name": "LayoutModel",
      "state": {}
     },
     "442e53fcd5a746988932b78131157fde": {
      "model_module": "@jupyter-widgets/controls",
      "model_module_version": "1.5.0",
      "model_name": "CheckboxModel",
      "state": {
       "description": "fit_reg",
       "disabled": false,
       "layout": "IPY_MODEL_5cdedc6a0bdf4c53ae03823e80bd7fcf",
       "style": "IPY_MODEL_38d0a426c85146a485bab7e46f29493e",
       "value": false
      }
     },
     "44774a793a824757845a1213602e4d03": {
      "model_module": "@jupyter-widgets/controls",
      "model_module_version": "1.5.0",
      "model_name": "SliderStyleModel",
      "state": {
       "description_width": ""
      }
     },
     "44b956df10574e848a3fab0b35db1deb": {
      "model_module": "@jupyter-widgets/base",
      "model_module_version": "1.2.0",
      "model_name": "LayoutModel",
      "state": {}
     },
     "4624aec14273442097462d84c95ffe7e": {
      "model_module": "@jupyter-widgets/base",
      "model_module_version": "1.2.0",
      "model_name": "LayoutModel",
      "state": {}
     },
     "4820d860277d442bb2d42fc769b26b15": {
      "model_module": "@jupyter-widgets/controls",
      "model_module_version": "1.5.0",
      "model_name": "FloatSliderModel",
      "state": {
       "description": "b",
       "layout": "IPY_MODEL_42e7ec7776b141abbb6aee0e5ed95f27",
       "max": 3,
       "min": -3,
       "step": 0.5,
       "style": "IPY_MODEL_61dbf0d97b6b404e9b6dcb57e185c4c5",
       "value": 0.5
      }
     },
     "486fbf8ee219425fb017b682eb9568bd": {
      "model_module": "@jupyter-widgets/base",
      "model_module_version": "1.2.0",
      "model_name": "LayoutModel",
      "state": {}
     },
     "48b022efcffa4f30afdbd7e072dec92d": {
      "model_module": "@jupyter-widgets/base",
      "model_module_version": "1.2.0",
      "model_name": "LayoutModel",
      "state": {
       "height": "350px"
      }
     },
     "48eaf20bf29543e094a3b568a969edb1": {
      "model_module": "@jupyter-widgets/controls",
      "model_module_version": "1.5.0",
      "model_name": "SliderStyleModel",
      "state": {
       "description_width": ""
      }
     },
     "494ad76f3e8c44e0ac02894fb2d5675c": {
      "model_module": "@jupyter-widgets/controls",
      "model_module_version": "1.5.0",
      "model_name": "VBoxModel",
      "state": {
       "_dom_classes": [
        "widget-interact"
       ],
       "children": [
        "IPY_MODEL_c4a63ad4eb4348028b3650ec81bb7660",
        "IPY_MODEL_750095543466459ca37b9a794ad524f3",
        "IPY_MODEL_cf60d05ad3364ed8872e088306f6f944",
        "IPY_MODEL_896c5fa1be1f4e978b3b120697375ea6"
       ],
       "layout": "IPY_MODEL_59b87d5fbb82459da42cce146d72257d"
      }
     },
     "49a94b8741ec4378b31bd43792251fc5": {
      "model_module": "@jupyter-widgets/controls",
      "model_module_version": "1.5.0",
      "model_name": "VBoxModel",
      "state": {
       "_dom_classes": [
        "widget-interact"
       ],
       "children": [
        "IPY_MODEL_e906f9336c3246f28354fa5acc3ef424",
        "IPY_MODEL_6106272703014fe9b837982397cdea1a",
        "IPY_MODEL_7a8bab8b7f4c4059bc678185fb82d2b7",
        "IPY_MODEL_99f52c4efebf46a0b57c0b3b50e7c81e"
       ],
       "layout": "IPY_MODEL_f74f9e63b5a84c15a4b6ac7dcdb052e3"
      }
     },
     "4ac62bca3ee8411b869be714d16bb739": {
      "model_module": "@jupyter-widgets/controls",
      "model_module_version": "1.5.0",
      "model_name": "SliderStyleModel",
      "state": {
       "description_width": ""
      }
     },
     "4ad4402ca91244df827da7500e51434c": {
      "model_module": "@jupyter-widgets/controls",
      "model_module_version": "1.5.0",
      "model_name": "FloatSliderModel",
      "state": {
       "description": "a1",
       "layout": "IPY_MODEL_a4aa7ae1d14d402dafdbbbd29a8f7304",
       "max": 3,
       "step": 0.01,
       "style": "IPY_MODEL_ce5b04cf9f754cc2afca70d6f323d898"
      }
     },
     "4b39187b9c4e44908bf16353af808f7e": {
      "model_module": "@jupyter-widgets/controls",
      "model_module_version": "1.5.0",
      "model_name": "SliderStyleModel",
      "state": {
       "description_width": ""
      }
     },
     "4b5fad7976804d05a26f64494715c3b2": {
      "model_module": "@jupyter-widgets/base",
      "model_module_version": "1.2.0",
      "model_name": "LayoutModel",
      "state": {}
     },
     "4c2591a79d394ee9b88a91717ab1beac": {
      "model_module": "@jupyter-widgets/controls",
      "model_module_version": "1.5.0",
      "model_name": "VBoxModel",
      "state": {
       "_dom_classes": [
        "widget-interact"
       ],
       "children": [
        "IPY_MODEL_0226066d375249ac8b194b022b423649",
        "IPY_MODEL_16665a79531f43a08ecf56e5edfae4d4",
        "IPY_MODEL_21e7c83b79784eb7bb9e369c99ffe36d",
        "IPY_MODEL_2206a3e3321b4fb383cf9162e80a0193"
       ],
       "layout": "IPY_MODEL_ad44870012b84df0864056a52bbb1b0f"
      }
     },
     "4c6f99a6eca34d1cb6d318871c14c7ef": {
      "model_module": "@jupyter-widgets/base",
      "model_module_version": "1.2.0",
      "model_name": "LayoutModel",
      "state": {}
     },
     "4ebe6da592c74038b7a909d4cc49ead5": {
      "model_module": "@jupyter-widgets/base",
      "model_module_version": "1.2.0",
      "model_name": "LayoutModel",
      "state": {}
     },
     "520de616c4004776a10026c2a732fd54": {
      "model_module": "@jupyter-widgets/controls",
      "model_module_version": "1.5.0",
      "model_name": "FloatSliderModel",
      "state": {
       "description": "a0",
       "layout": "IPY_MODEL_3c3ef3edeeda439c81b68e66bf9ad3a7",
       "max": 15,
       "min": -5,
       "step": 0.01,
       "style": "IPY_MODEL_e88e9129171b4160be0ae166b71fa9fe",
       "value": 5
      }
     },
     "52a0269c03fe474db81fd4a1df99efbf": {
      "model_module": "@jupyter-widgets/controls",
      "model_module_version": "1.5.0",
      "model_name": "VBoxModel",
      "state": {
       "_dom_classes": [
        "widget-interact"
       ],
       "children": [
        "IPY_MODEL_ffeb60ef291f4079b0f34c22a3b47f27",
        "IPY_MODEL_bcc6f6301d06470486a3fe765f16a5f3",
        "IPY_MODEL_e15ca53aad24439592503c9943776485",
        "IPY_MODEL_1d3cfee15ba34bb6b6ff428c08047b68"
       ],
       "layout": "IPY_MODEL_a566555ab7774f13a1669c5244f6233a"
      }
     },
     "52ddbd9d9b114df0a4ac761a8d8ed4d3": {
      "model_module": "@jupyter-widgets/base",
      "model_module_version": "1.2.0",
      "model_name": "LayoutModel",
      "state": {}
     },
     "5374b39a95c0435cafa9a6897cd09d58": {
      "model_module": "@jupyter-widgets/output",
      "model_module_version": "1.0.0",
      "model_name": "OutputModel",
      "state": {
       "layout": "IPY_MODEL_dc01fa03ef36405abff9a2af8f161d5f"
      }
     },
     "53edc21d761d400ab4a51857cc36b68c": {
      "model_module": "@jupyter-widgets/controls",
      "model_module_version": "1.5.0",
      "model_name": "SliderStyleModel",
      "state": {
       "description_width": ""
      }
     },
     "545eaa73819746149313ac44339cd038": {
      "model_module": "@jupyter-widgets/base",
      "model_module_version": "1.2.0",
      "model_name": "LayoutModel",
      "state": {}
     },
     "550fb0a542c1472d8909fb137b2004ba": {
      "model_module": "@jupyter-widgets/base",
      "model_module_version": "1.2.0",
      "model_name": "LayoutModel",
      "state": {}
     },
     "557869f166fd4b518bc7784658814a94": {
      "model_module": "@jupyter-widgets/base",
      "model_module_version": "1.2.0",
      "model_name": "LayoutModel",
      "state": {}
     },
     "55c4a69cbeb14e68babdb4c4ea47594a": {
      "model_module": "@jupyter-widgets/controls",
      "model_module_version": "1.5.0",
      "model_name": "VBoxModel",
      "state": {
       "_dom_classes": [
        "widget-interact"
       ],
       "children": [
        "IPY_MODEL_a30aca145243482fbd53fd34ccac8733",
        "IPY_MODEL_1d473ec7a4bd45a8a1a0afb94edb7f69",
        "IPY_MODEL_31c566ba4458458ba438a390aba35ac9",
        "IPY_MODEL_5d28fad88fd84d4ab0826bf7d0a805dd"
       ],
       "layout": "IPY_MODEL_6ef171f059bd4e3d8f331ddf5dd60d53"
      }
     },
     "560828a14fd04a2fad41149e95a0dc14": {
      "model_module": "@jupyter-widgets/base",
      "model_module_version": "1.2.0",
      "model_name": "LayoutModel",
      "state": {}
     },
     "56563da94af745dd8709ba1ce5dcc438": {
      "model_module": "@jupyter-widgets/controls",
      "model_module_version": "1.5.0",
      "model_name": "FloatSliderModel",
      "state": {
       "description": "m",
       "layout": "IPY_MODEL_9d6715b164d847aab9e8108b59d0316e",
       "max": 2,
       "min": -2,
       "step": 0.1,
       "style": "IPY_MODEL_57d1ca9d3cae4d3b89effa350c1f3deb",
       "value": -0.8
      }
     },
     "57d1ca9d3cae4d3b89effa350c1f3deb": {
      "model_module": "@jupyter-widgets/controls",
      "model_module_version": "1.5.0",
      "model_name": "SliderStyleModel",
      "state": {
       "description_width": ""
      }
     },
     "588862a787624c3d9ea90f7d878726e5": {
      "model_module": "@jupyter-widgets/base",
      "model_module_version": "1.2.0",
      "model_name": "LayoutModel",
      "state": {}
     },
     "592cf3f454d74b5fa089a3d6e3ff97e7": {
      "model_module": "@jupyter-widgets/base",
      "model_module_version": "1.2.0",
      "model_name": "LayoutModel",
      "state": {}
     },
     "59b76acfa7c84f77b1b1e7f13a5aa6ca": {
      "model_module": "@jupyter-widgets/controls",
      "model_module_version": "1.5.0",
      "model_name": "VBoxModel",
      "state": {
       "_dom_classes": [
        "widget-interact"
       ],
       "children": [
        "IPY_MODEL_649a0472bb604528b0598c977880df39",
        "IPY_MODEL_172c811f34a84019a00db7607ce5c9f9",
        "IPY_MODEL_72f471bc953c4c48929af42ffe20d9f2"
       ],
       "layout": "IPY_MODEL_fdb39013b9d74ce6b941439515713c0c"
      }
     },
     "59b87d5fbb82459da42cce146d72257d": {
      "model_module": "@jupyter-widgets/base",
      "model_module_version": "1.2.0",
      "model_name": "LayoutModel",
      "state": {}
     },
     "59eee8c04208498aaa273b2cba3cd569": {
      "model_module": "@jupyter-widgets/base",
      "model_module_version": "1.2.0",
      "model_name": "LayoutModel",
      "state": {}
     },
     "5a124ddf10c348c48f67945aa26effb5": {
      "model_module": "@jupyter-widgets/output",
      "model_module_version": "1.0.0",
      "model_name": "OutputModel",
      "state": {
       "layout": "IPY_MODEL_fd664f1c1bfe4799aa19088605dec428"
      }
     },
     "5c0cb435d549422a922d2b2c54612ea7": {
      "model_module": "@jupyter-widgets/base",
      "model_module_version": "1.2.0",
      "model_name": "LayoutModel",
      "state": {}
     },
     "5cdedc6a0bdf4c53ae03823e80bd7fcf": {
      "model_module": "@jupyter-widgets/base",
      "model_module_version": "1.2.0",
      "model_name": "LayoutModel",
      "state": {}
     },
     "5d28fad88fd84d4ab0826bf7d0a805dd": {
      "model_module": "@jupyter-widgets/output",
      "model_module_version": "1.0.0",
      "model_name": "OutputModel",
      "state": {
       "layout": "IPY_MODEL_2ed822d8918f4811bb3d14002061f39d"
      }
     },
     "5dbade9968a94d8fa4d09a9c9fab55f6": {
      "model_module": "@jupyter-widgets/controls",
      "model_module_version": "1.5.0",
      "model_name": "VBoxModel",
      "state": {
       "_dom_classes": [
        "widget-interact"
       ],
       "children": [
        "IPY_MODEL_d14907877ff34d22b7eb02f8e5cb5bdb",
        "IPY_MODEL_0a3cb79c88084b2f9049ab403cfa7b15"
       ],
       "layout": "IPY_MODEL_c6e069191bc24beaba81fdb871099390"
      }
     },
     "5f1886bcd73c45b5923125d9a944a7e0": {
      "model_module": "@jupyter-widgets/controls",
      "model_module_version": "1.5.0",
      "model_name": "FloatSliderModel",
      "state": {
       "description": "b",
       "layout": "IPY_MODEL_f2d02fe6ca5e4936bbb41838bfffbb83",
       "max": 3,
       "min": -3,
       "step": 0.5,
       "style": "IPY_MODEL_53edc21d761d400ab4a51857cc36b68c",
       "value": -1.5
      }
     },
     "5fa411cd56c54acbbad1905e0f75abc6": {
      "model_module": "@jupyter-widgets/controls",
      "model_module_version": "1.5.0",
      "model_name": "FloatSliderModel",
      "state": {
       "description": "a1",
       "layout": "IPY_MODEL_e349ecc4afb6415586333f2e43a377a7",
       "max": 3,
       "step": 0.01,
       "style": "IPY_MODEL_c79f34a05b16458784cab9d3770d5f6d"
      }
     },
     "6106272703014fe9b837982397cdea1a": {
      "model_module": "@jupyter-widgets/controls",
      "model_module_version": "1.5.0",
      "model_name": "FloatSliderModel",
      "state": {
       "description": "a1",
       "layout": "IPY_MODEL_7013538f4b254a8698c4ec34a9e11a52",
       "max": 3,
       "step": 0.01,
       "style": "IPY_MODEL_4ac62bca3ee8411b869be714d16bb739"
      }
     },
     "61dbf0d97b6b404e9b6dcb57e185c4c5": {
      "model_module": "@jupyter-widgets/controls",
      "model_module_version": "1.5.0",
      "model_name": "SliderStyleModel",
      "state": {
       "description_width": ""
      }
     },
     "61de9d7c8f7e4d7bae55a059ac6da2d2": {
      "model_module": "@jupyter-widgets/controls",
      "model_module_version": "1.5.0",
      "model_name": "FloatSliderModel",
      "state": {
       "description": "b",
       "layout": "IPY_MODEL_6881c719a2e34b4da7df6907a2b4278d",
       "max": 3,
       "min": -3,
       "step": 0.5,
       "style": "IPY_MODEL_d9c90e2b2334472eb92b867a4e9aa5b1",
       "value": 1.5
      }
     },
     "6273fddb403b47c1b88fe8ac50df1677": {
      "model_module": "@jupyter-widgets/base",
      "model_module_version": "1.2.0",
      "model_name": "LayoutModel",
      "state": {}
     },
     "62db6c96813d4e0aba055359f7d066c2": {
      "model_module": "@jupyter-widgets/controls",
      "model_module_version": "1.5.0",
      "model_name": "SliderStyleModel",
      "state": {
       "description_width": ""
      }
     },
     "638773da2b8d4ebba0c8184dc529ade4": {
      "model_module": "@jupyter-widgets/base",
      "model_module_version": "1.2.0",
      "model_name": "LayoutModel",
      "state": {}
     },
     "6391c3b43a4947e493001f64dd17ffca": {
      "model_module": "@jupyter-widgets/base",
      "model_module_version": "1.2.0",
      "model_name": "LayoutModel",
      "state": {}
     },
     "649a0472bb604528b0598c977880df39": {
      "model_module": "@jupyter-widgets/controls",
      "model_module_version": "1.5.0",
      "model_name": "FloatSliderModel",
      "state": {
       "description": "m",
       "layout": "IPY_MODEL_2f3543c5dfb048dab58f136507d5a396",
       "max": 2,
       "min": -2,
       "step": 0.1,
       "style": "IPY_MODEL_b727451196b54a79af2d1674116d1790"
      }
     },
     "649dfdac8ddc4812897a72f40fa29584": {
      "model_module": "@jupyter-widgets/base",
      "model_module_version": "1.2.0",
      "model_name": "LayoutModel",
      "state": {}
     },
     "653cdf6c53a24e17af3118a6bc41ed9a": {
      "model_module": "@jupyter-widgets/controls",
      "model_module_version": "1.5.0",
      "model_name": "FloatSliderModel",
      "state": {
       "description": "b",
       "layout": "IPY_MODEL_6e337636e1174064941887d2b5c34f8d",
       "max": 3,
       "min": -3,
       "step": 0.5,
       "style": "IPY_MODEL_37dbd7ebec7147919a1c024a2beef2a8"
      }
     },
     "65686f23f71c4e6cbc5477bc2317f71d": {
      "model_module": "@jupyter-widgets/output",
      "model_module_version": "1.0.0",
      "model_name": "OutputModel",
      "state": {
       "layout": "IPY_MODEL_3870a12be2124f019410e32da9277455"
      }
     },
     "66dbf7c78bd14cad9f655a10cf2e0299": {
      "model_module": "@jupyter-widgets/base",
      "model_module_version": "1.2.0",
      "model_name": "LayoutModel",
      "state": {}
     },
     "680bff499fca4344a9fd87363cd033e3": {
      "model_module": "@jupyter-widgets/base",
      "model_module_version": "1.2.0",
      "model_name": "LayoutModel",
      "state": {}
     },
     "6881c719a2e34b4da7df6907a2b4278d": {
      "model_module": "@jupyter-widgets/base",
      "model_module_version": "1.2.0",
      "model_name": "LayoutModel",
      "state": {}
     },
     "68c52d436db8404cbdd5a27ae5d6fe41": {
      "model_module": "@jupyter-widgets/controls",
      "model_module_version": "1.5.0",
      "model_name": "SliderStyleModel",
      "state": {
       "description_width": ""
      }
     },
     "6921d7ec2a294810b63f0c1694289ee6": {
      "model_module": "@jupyter-widgets/base",
      "model_module_version": "1.2.0",
      "model_name": "LayoutModel",
      "state": {}
     },
     "6973b7bf82f342e3b48495304c6d5da2": {
      "model_module": "@jupyter-widgets/base",
      "model_module_version": "1.2.0",
      "model_name": "LayoutModel",
      "state": {}
     },
     "69d3d2b5ee384a1d8358fcf4711c39df": {
      "model_module": "@jupyter-widgets/controls",
      "model_module_version": "1.5.0",
      "model_name": "SliderStyleModel",
      "state": {
       "description_width": ""
      }
     },
     "6a0eb306f1924d069e1463042c2dd9d0": {
      "model_module": "@jupyter-widgets/base",
      "model_module_version": "1.2.0",
      "model_name": "LayoutModel",
      "state": {}
     },
     "6b7b73a03a604b07906cff7eb896a155": {
      "model_module": "@jupyter-widgets/controls",
      "model_module_version": "1.5.0",
      "model_name": "DescriptionStyleModel",
      "state": {
       "description_width": ""
      }
     },
     "6ba73e00fd7144098c3b8b93d95a27a9": {
      "model_module": "@jupyter-widgets/controls",
      "model_module_version": "1.5.0",
      "model_name": "VBoxModel",
      "state": {
       "_dom_classes": [
        "widget-interact"
       ],
       "children": [
        "IPY_MODEL_1abd284253f346ad8d8431856fef3237",
        "IPY_MODEL_30592aa32ac34283b762fb5723f70fe6",
        "IPY_MODEL_036c95000f5c4c40b4b82e1801bb2ef3",
        "IPY_MODEL_40cf457865464e47bcee915fe19615dd"
       ],
       "layout": "IPY_MODEL_592cf3f454d74b5fa089a3d6e3ff97e7"
      }
     },
     "6bb2583eabb645c6a1f507d29c848266": {
      "model_module": "@jupyter-widgets/output",
      "model_module_version": "1.0.0",
      "model_name": "OutputModel",
      "state": {
       "layout": "IPY_MODEL_c603d5ece3414c619a6f4f67da57de3d"
      }
     },
     "6da8ea97812f4781b1507d5fde40b2cd": {
      "model_module": "@jupyter-widgets/output",
      "model_module_version": "1.0.0",
      "model_name": "OutputModel",
      "state": {
       "layout": "IPY_MODEL_d666418694014c57beef4f7bbc742a37"
      }
     },
     "6de9e566a0664f4c978215c92565c792": {
      "model_module": "@jupyter-widgets/base",
      "model_module_version": "1.2.0",
      "model_name": "LayoutModel",
      "state": {}
     },
     "6df78ca7835f41629bdd6d874c4ad34f": {
      "model_module": "@jupyter-widgets/controls",
      "model_module_version": "1.5.0",
      "model_name": "SliderStyleModel",
      "state": {
       "description_width": ""
      }
     },
     "6e32857666b645c4b99441c23cf547c4": {
      "model_module": "@jupyter-widgets/controls",
      "model_module_version": "1.5.0",
      "model_name": "FloatSliderModel",
      "state": {
       "description": "b",
       "layout": "IPY_MODEL_5c0cb435d549422a922d2b2c54612ea7",
       "max": 3,
       "min": -3,
       "step": 0.5,
       "style": "IPY_MODEL_9b91e41329b64756be9bd74d318bf589"
      }
     },
     "6e337636e1174064941887d2b5c34f8d": {
      "model_module": "@jupyter-widgets/base",
      "model_module_version": "1.2.0",
      "model_name": "LayoutModel",
      "state": {}
     },
     "6ea645aebdd742c2a9315caa2538b3e4": {
      "model_module": "@jupyter-widgets/base",
      "model_module_version": "1.2.0",
      "model_name": "LayoutModel",
      "state": {}
     },
     "6ef171f059bd4e3d8f331ddf5dd60d53": {
      "model_module": "@jupyter-widgets/base",
      "model_module_version": "1.2.0",
      "model_name": "LayoutModel",
      "state": {}
     },
     "6f62b4f7f14d47cf8db8a3e4b048614c": {
      "model_module": "@jupyter-widgets/controls",
      "model_module_version": "1.5.0",
      "model_name": "VBoxModel",
      "state": {
       "_dom_classes": [
        "widget-interact"
       ],
       "children": [
        "IPY_MODEL_b7e2755f703a4c7faf27cbbc8398aa45",
        "IPY_MODEL_0b02c946c20c47eaac06c591626daf6d",
        "IPY_MODEL_c6afb40fe5114c95a83205735b481c0b",
        "IPY_MODEL_07773ef79db24d6c81d483b0bee8241b"
       ],
       "layout": "IPY_MODEL_b3cee17331724a20af8373687bb039dd"
      }
     },
     "7013538f4b254a8698c4ec34a9e11a52": {
      "model_module": "@jupyter-widgets/base",
      "model_module_version": "1.2.0",
      "model_name": "LayoutModel",
      "state": {}
     },
     "70643145a59245c5b39dcdaef7ad308c": {
      "model_module": "@jupyter-widgets/controls",
      "model_module_version": "1.5.0",
      "model_name": "FloatSliderModel",
      "state": {
       "description": "m",
       "layout": "IPY_MODEL_e325559a2de2405f882bf8a0d88effe8",
       "max": 2,
       "min": -2,
       "step": 0.1,
       "style": "IPY_MODEL_7207a9fe5c5f4c2eb6d25b410107e36d"
      }
     },
     "709ce4cef1d9491cafb17c902bae4e31": {
      "model_module": "@jupyter-widgets/controls",
      "model_module_version": "1.5.0",
      "model_name": "VBoxModel",
      "state": {
       "_dom_classes": [
        "widget-interact"
       ],
       "children": [
        "IPY_MODEL_383f675fcd0d4ecda1a9ad05c45d81f1",
        "IPY_MODEL_c3249a6668394e988fbfda1b3c89f093"
       ],
       "layout": "IPY_MODEL_944e43fe2f9a4205ab25fcf715d399b2"
      }
     },
     "70fb5c8f749042e794c5405559c12084": {
      "model_module": "@jupyter-widgets/output",
      "model_module_version": "1.0.0",
      "model_name": "OutputModel",
      "state": {
       "layout": "IPY_MODEL_588862a787624c3d9ea90f7d878726e5",
       "outputs": [
        {
         "ename": "NameError",
         "evalue": "name 'xlabel' is not defined",
         "output_type": "error",
         "traceback": [
          "\u001b[0;31m---------------------------------------------------------------------------\u001b[0m",
          "\u001b[0;31mNameError\u001b[0m                                 Traceback (most recent call last)",
          "\u001b[0;32m~/opt/anaconda3/envs/mdtools/lib/python3.8/site-packages/ipywidgets/widgets/interaction.py\u001b[0m in \u001b[0;36mupdate\u001b[0;34m(self, *args)\u001b[0m\n\u001b[1;32m    254\u001b[0m                     \u001b[0mvalue\u001b[0m \u001b[0;34m=\u001b[0m \u001b[0mwidget\u001b[0m\u001b[0;34m.\u001b[0m\u001b[0mget_interact_value\u001b[0m\u001b[0;34m(\u001b[0m\u001b[0;34m)\u001b[0m\u001b[0;34m\u001b[0m\u001b[0;34m\u001b[0m\u001b[0m\n\u001b[1;32m    255\u001b[0m                     \u001b[0mself\u001b[0m\u001b[0;34m.\u001b[0m\u001b[0mkwargs\u001b[0m\u001b[0;34m[\u001b[0m\u001b[0mwidget\u001b[0m\u001b[0;34m.\u001b[0m\u001b[0m_kwarg\u001b[0m\u001b[0;34m]\u001b[0m \u001b[0;34m=\u001b[0m \u001b[0mvalue\u001b[0m\u001b[0;34m\u001b[0m\u001b[0;34m\u001b[0m\u001b[0m\n\u001b[0;32m--> 256\u001b[0;31m                 \u001b[0mself\u001b[0m\u001b[0;34m.\u001b[0m\u001b[0mresult\u001b[0m \u001b[0;34m=\u001b[0m \u001b[0mself\u001b[0m\u001b[0;34m.\u001b[0m\u001b[0mf\u001b[0m\u001b[0;34m(\u001b[0m\u001b[0;34m**\u001b[0m\u001b[0mself\u001b[0m\u001b[0;34m.\u001b[0m\u001b[0mkwargs\u001b[0m\u001b[0;34m)\u001b[0m\u001b[0;34m\u001b[0m\u001b[0;34m\u001b[0m\u001b[0m\n\u001b[0m\u001b[1;32m    257\u001b[0m                 \u001b[0mshow_inline_matplotlib_plots\u001b[0m\u001b[0;34m(\u001b[0m\u001b[0;34m)\u001b[0m\u001b[0;34m\u001b[0m\u001b[0;34m\u001b[0m\u001b[0m\n\u001b[1;32m    258\u001b[0m                 \u001b[0;32mif\u001b[0m \u001b[0mself\u001b[0m\u001b[0;34m.\u001b[0m\u001b[0mauto_display\u001b[0m \u001b[0;32mand\u001b[0m \u001b[0mself\u001b[0m\u001b[0;34m.\u001b[0m\u001b[0mresult\u001b[0m \u001b[0;32mis\u001b[0m \u001b[0;32mnot\u001b[0m \u001b[0;32mNone\u001b[0m\u001b[0;34m:\u001b[0m\u001b[0;34m\u001b[0m\u001b[0;34m\u001b[0m\u001b[0m\n",
          "\u001b[0;32m<ipython-input-7-5ba5464baeaa>\u001b[0m in \u001b[0;36moptimize\u001b[0;34m(a0, a1, fit_reg)\u001b[0m\n\u001b[1;32m     37\u001b[0m     \u001b[0mloss\u001b[0m \u001b[0;34m=\u001b[0m \u001b[0mget_loss\u001b[0m\u001b[0;34m(\u001b[0m\u001b[0ma0\u001b[0m\u001b[0;34m,\u001b[0m \u001b[0ma1\u001b[0m\u001b[0;34m)\u001b[0m\u001b[0;34m\u001b[0m\u001b[0;34m\u001b[0m\u001b[0m\n\u001b[1;32m     38\u001b[0m     \u001b[0mplt\u001b[0m\u001b[0;34m.\u001b[0m\u001b[0mtext\u001b[0m\u001b[0;34m(\u001b[0m\u001b[0;36m0.01\u001b[0m\u001b[0;34m,\u001b[0m \u001b[0;36m0.95\u001b[0m\u001b[0;34m,\u001b[0m \u001b[0;34mf'Loss: {loss:.4f}'\u001b[0m\u001b[0;34m,\u001b[0m \u001b[0mtransform\u001b[0m\u001b[0;34m=\u001b[0m\u001b[0mplt\u001b[0m\u001b[0;34m.\u001b[0m\u001b[0mgca\u001b[0m\u001b[0;34m(\u001b[0m\u001b[0;34m)\u001b[0m\u001b[0;34m.\u001b[0m\u001b[0mtransAxes\u001b[0m\u001b[0;34m)\u001b[0m\u001b[0;34m\u001b[0m\u001b[0;34m\u001b[0m\u001b[0m\n\u001b[0;32m---> 39\u001b[0;31m     \u001b[0mxlabel\u001b[0m\u001b[0;34m(\u001b[0m\u001b[0;34m'$x$'\u001b[0m\u001b[0;34m)\u001b[0m\u001b[0;34m\u001b[0m\u001b[0;34m\u001b[0m\u001b[0m\n\u001b[0m\u001b[1;32m     40\u001b[0m     \u001b[0mylabel\u001b[0m\u001b[0;34m(\u001b[0m\u001b[0;34m'$y$'\u001b[0m\u001b[0;34m)\u001b[0m\u001b[0;34m\u001b[0m\u001b[0;34m\u001b[0m\u001b[0m\n\u001b[1;32m     41\u001b[0m     \u001b[0mlegend\u001b[0m\u001b[0;34m(\u001b[0m\u001b[0mloc\u001b[0m\u001b[0;34m=\u001b[0m\u001b[0;36m4\u001b[0m\u001b[0;34m)\u001b[0m\u001b[0;34m\u001b[0m\u001b[0;34m\u001b[0m\u001b[0m\n",
          "\u001b[0;31mNameError\u001b[0m: name 'xlabel' is not defined"
         ]
        }
       ]
      }
     },
     "7137a00db9a44f5b96b193cb549273d7": {
      "model_module": "@jupyter-widgets/controls",
      "model_module_version": "1.5.0",
      "model_name": "CheckboxModel",
      "state": {
       "description": "fit_reg",
       "disabled": false,
       "layout": "IPY_MODEL_8065da589a42405187c8ccf0db92bb26",
       "style": "IPY_MODEL_8220594426be4d89a05a1e66e616da3a",
       "value": false
      }
     },
     "71bb70cbdb564266a2559a248831d0b3": {
      "model_module": "@jupyter-widgets/controls",
      "model_module_version": "1.5.0",
      "model_name": "VBoxModel",
      "state": {
       "_dom_classes": [
        "widget-interact"
       ],
       "children": [
        "IPY_MODEL_3187a3143a2746faa7dfdd37832e33e1",
        "IPY_MODEL_6e32857666b645c4b99441c23cf547c4",
        "IPY_MODEL_e554ee0d1d974f358f2e02ce347c0159"
       ],
       "layout": "IPY_MODEL_e9ee6d73b3b2445898031ccdc2ad0de6"
      }
     },
     "71e4b6f2e7324ff6b5fe20c59b377001": {
      "model_module": "@jupyter-widgets/output",
      "model_module_version": "1.0.0",
      "model_name": "OutputModel",
      "state": {
       "layout": "IPY_MODEL_8fcd84bffc54455abaaab212b253a09c"
      }
     },
     "7207a9fe5c5f4c2eb6d25b410107e36d": {
      "model_module": "@jupyter-widgets/controls",
      "model_module_version": "1.5.0",
      "model_name": "SliderStyleModel",
      "state": {
       "description_width": ""
      }
     },
     "72d003b448a441a395af269d90443fbd": {
      "model_module": "@jupyter-widgets/controls",
      "model_module_version": "1.5.0",
      "model_name": "SliderStyleModel",
      "state": {
       "description_width": ""
      }
     },
     "72f471bc953c4c48929af42ffe20d9f2": {
      "model_module": "@jupyter-widgets/output",
      "model_module_version": "1.0.0",
      "model_name": "OutputModel",
      "state": {
       "layout": "IPY_MODEL_eb78d4fbb5ac406da105ede91bff6631"
      }
     },
     "750095543466459ca37b9a794ad524f3": {
      "model_module": "@jupyter-widgets/controls",
      "model_module_version": "1.5.0",
      "model_name": "FloatSliderModel",
      "state": {
       "description": "a1",
       "layout": "IPY_MODEL_4183dd2f9b2248678dbda28438eb5f6a",
       "max": 3,
       "step": 0.01,
       "style": "IPY_MODEL_72d003b448a441a395af269d90443fbd"
      }
     },
     "787c8a426e3d4917bbc97fbbed8967cc": {
      "model_module": "@jupyter-widgets/base",
      "model_module_version": "1.2.0",
      "model_name": "LayoutModel",
      "state": {}
     },
     "78b38b51b21240aab063075f1f5554b4": {
      "model_module": "@jupyter-widgets/base",
      "model_module_version": "1.2.0",
      "model_name": "LayoutModel",
      "state": {}
     },
     "7948769ce3114f5d85fb7dbe702439af": {
      "model_module": "@jupyter-widgets/controls",
      "model_module_version": "1.5.0",
      "model_name": "SliderStyleModel",
      "state": {
       "description_width": ""
      }
     },
     "79722646b7164d99840058d69d829010": {
      "model_module": "@jupyter-widgets/controls",
      "model_module_version": "1.5.0",
      "model_name": "VBoxModel",
      "state": {
       "_dom_classes": [
        "widget-interact"
       ],
       "children": [
        "IPY_MODEL_56563da94af745dd8709ba1ce5dcc438",
        "IPY_MODEL_5f1886bcd73c45b5923125d9a944a7e0",
        "IPY_MODEL_5a124ddf10c348c48f67945aa26effb5"
       ],
       "layout": "IPY_MODEL_bee9dd0ad4ac4f439387dc33c9f8de01"
      }
     },
     "79b5662e756b4ed7ae0046703e881374": {
      "model_module": "@jupyter-widgets/base",
      "model_module_version": "1.2.0",
      "model_name": "LayoutModel",
      "state": {}
     },
     "7a24040655d94d278896f50ca911b6b7": {
      "model_module": "@jupyter-widgets/controls",
      "model_module_version": "1.5.0",
      "model_name": "SliderStyleModel",
      "state": {
       "description_width": ""
      }
     },
     "7a8bab8b7f4c4059bc678185fb82d2b7": {
      "model_module": "@jupyter-widgets/controls",
      "model_module_version": "1.5.0",
      "model_name": "CheckboxModel",
      "state": {
       "description": "fit_reg",
       "disabled": false,
       "layout": "IPY_MODEL_caca2b697afb46f3911b87be11ba03a4",
       "style": "IPY_MODEL_8a0a582877174772a91cd450a57efde9",
       "value": false
      }
     },
     "7beedc041fdd4dd29a11c1773ef249ad": {
      "model_module": "@jupyter-widgets/base",
      "model_module_version": "1.2.0",
      "model_name": "LayoutModel",
      "state": {}
     },
     "7d1e8023c706462e881b7fa17172bf6e": {
      "model_module": "@jupyter-widgets/base",
      "model_module_version": "1.2.0",
      "model_name": "LayoutModel",
      "state": {
       "height": "350px"
      }
     },
     "7d8545c1488742759a98448a0bbb4073": {
      "model_module": "@jupyter-widgets/base",
      "model_module_version": "1.2.0",
      "model_name": "LayoutModel",
      "state": {}
     },
     "7dca9fb78d49487eac24f732d5d8b8f0": {
      "model_module": "@jupyter-widgets/output",
      "model_module_version": "1.0.0",
      "model_name": "OutputModel",
      "state": {
       "layout": "IPY_MODEL_7d1e8023c706462e881b7fa17172bf6e"
      }
     },
     "7e29f3cba3764c61807a253484bb7703": {
      "model_module": "@jupyter-widgets/base",
      "model_module_version": "1.2.0",
      "model_name": "LayoutModel",
      "state": {
       "height": "350px"
      }
     },
     "7ed0f1fd8bb84a808da239fe8c792e9e": {
      "model_module": "@jupyter-widgets/output",
      "model_module_version": "1.0.0",
      "model_name": "OutputModel",
      "state": {
       "layout": "IPY_MODEL_4c6f99a6eca34d1cb6d318871c14c7ef"
      }
     },
     "7f9ecdac38264851b66296c4bf994bce": {
      "model_module": "@jupyter-widgets/base",
      "model_module_version": "1.2.0",
      "model_name": "LayoutModel",
      "state": {}
     },
     "7fa1ca43b4b34b60a0d61e4d69d88b24": {
      "model_module": "@jupyter-widgets/output",
      "model_module_version": "1.0.0",
      "model_name": "OutputModel",
      "state": {
       "layout": "IPY_MODEL_39bbfade249348669b7385cfb0926b1c"
      }
     },
     "7fcf509e9a7544f6b5917008ecd4b0bd": {
      "model_module": "@jupyter-widgets/base",
      "model_module_version": "1.2.0",
      "model_name": "LayoutModel",
      "state": {}
     },
     "8029ac88b7a5401ea19aac0da433bd4f": {
      "model_module": "@jupyter-widgets/controls",
      "model_module_version": "1.5.0",
      "model_name": "DescriptionStyleModel",
      "state": {
       "description_width": ""
      }
     },
     "8065da589a42405187c8ccf0db92bb26": {
      "model_module": "@jupyter-widgets/base",
      "model_module_version": "1.2.0",
      "model_name": "LayoutModel",
      "state": {}
     },
     "8220594426be4d89a05a1e66e616da3a": {
      "model_module": "@jupyter-widgets/controls",
      "model_module_version": "1.5.0",
      "model_name": "DescriptionStyleModel",
      "state": {
       "description_width": ""
      }
     },
     "83c85204e8af47898358e32d529d70bf": {
      "model_module": "@jupyter-widgets/output",
      "model_module_version": "1.0.0",
      "model_name": "OutputModel",
      "state": {
       "layout": "IPY_MODEL_9dc3c6be0d024c70a9e5d45dce45d3cd"
      }
     },
     "8484da432cdd414c9bd3bbad7464d5d8": {
      "model_module": "@jupyter-widgets/controls",
      "model_module_version": "1.5.0",
      "model_name": "SliderStyleModel",
      "state": {
       "description_width": ""
      }
     },
     "85c0306171f74d288517ff1077655de2": {
      "model_module": "@jupyter-widgets/controls",
      "model_module_version": "1.5.0",
      "model_name": "CheckboxModel",
      "state": {
       "description": "fit_reg",
       "disabled": false,
       "layout": "IPY_MODEL_b2721cdf481c4d2aa0b70d19964e7132",
       "style": "IPY_MODEL_fe5469fb297c4ae9a263112e7b5c96f5",
       "value": false
      }
     },
     "87cbc9ba628c4c20a7abab0e29a328b9": {
      "model_module": "@jupyter-widgets/controls",
      "model_module_version": "1.5.0",
      "model_name": "VBoxModel",
      "state": {
       "_dom_classes": [
        "widget-interact"
       ],
       "children": [
        "IPY_MODEL_f887edb9aa4741a3b75b36cb0d9e628e",
        "IPY_MODEL_a846e2614b7345ec986cb9cb70fd1b70",
        "IPY_MODEL_cc5940b86f0340839a98bb27fb5ffa16"
       ],
       "layout": "IPY_MODEL_23cb0b2729b743a2a9fde6b561593116"
      }
     },
     "895cb2798914468f8c44706d37134dfa": {
      "model_module": "@jupyter-widgets/controls",
      "model_module_version": "1.5.0",
      "model_name": "CheckboxModel",
      "state": {
       "description": "fit_reg",
       "disabled": false,
       "layout": "IPY_MODEL_7fcf509e9a7544f6b5917008ecd4b0bd",
       "style": "IPY_MODEL_3ee3f3123380420085a27bb289b15009",
       "value": false
      }
     },
     "896c5fa1be1f4e978b3b120697375ea6": {
      "model_module": "@jupyter-widgets/output",
      "model_module_version": "1.0.0",
      "model_name": "OutputModel",
      "state": {
       "layout": "IPY_MODEL_560828a14fd04a2fad41149e95a0dc14",
       "outputs": [
        {
         "ename": "NameError",
         "evalue": "name 'text' is not defined",
         "output_type": "error",
         "traceback": [
          "\u001b[0;31m---------------------------------------------------------------------------\u001b[0m",
          "\u001b[0;31mNameError\u001b[0m                                 Traceback (most recent call last)",
          "\u001b[0;32m~/opt/anaconda3/envs/mdtools/lib/python3.8/site-packages/ipywidgets/widgets/interaction.py\u001b[0m in \u001b[0;36mupdate\u001b[0;34m(self, *args)\u001b[0m\n\u001b[1;32m    254\u001b[0m                     \u001b[0mvalue\u001b[0m \u001b[0;34m=\u001b[0m \u001b[0mwidget\u001b[0m\u001b[0;34m.\u001b[0m\u001b[0mget_interact_value\u001b[0m\u001b[0;34m(\u001b[0m\u001b[0;34m)\u001b[0m\u001b[0;34m\u001b[0m\u001b[0;34m\u001b[0m\u001b[0m\n\u001b[1;32m    255\u001b[0m                     \u001b[0mself\u001b[0m\u001b[0;34m.\u001b[0m\u001b[0mkwargs\u001b[0m\u001b[0;34m[\u001b[0m\u001b[0mwidget\u001b[0m\u001b[0;34m.\u001b[0m\u001b[0m_kwarg\u001b[0m\u001b[0;34m]\u001b[0m \u001b[0;34m=\u001b[0m \u001b[0mvalue\u001b[0m\u001b[0;34m\u001b[0m\u001b[0;34m\u001b[0m\u001b[0m\n\u001b[0;32m--> 256\u001b[0;31m                 \u001b[0mself\u001b[0m\u001b[0;34m.\u001b[0m\u001b[0mresult\u001b[0m \u001b[0;34m=\u001b[0m \u001b[0mself\u001b[0m\u001b[0;34m.\u001b[0m\u001b[0mf\u001b[0m\u001b[0;34m(\u001b[0m\u001b[0;34m**\u001b[0m\u001b[0mself\u001b[0m\u001b[0;34m.\u001b[0m\u001b[0mkwargs\u001b[0m\u001b[0;34m)\u001b[0m\u001b[0;34m\u001b[0m\u001b[0;34m\u001b[0m\u001b[0m\n\u001b[0m\u001b[1;32m    257\u001b[0m                 \u001b[0mshow_inline_matplotlib_plots\u001b[0m\u001b[0;34m(\u001b[0m\u001b[0;34m)\u001b[0m\u001b[0;34m\u001b[0m\u001b[0;34m\u001b[0m\u001b[0m\n\u001b[1;32m    258\u001b[0m                 \u001b[0;32mif\u001b[0m \u001b[0mself\u001b[0m\u001b[0;34m.\u001b[0m\u001b[0mauto_display\u001b[0m \u001b[0;32mand\u001b[0m \u001b[0mself\u001b[0m\u001b[0;34m.\u001b[0m\u001b[0mresult\u001b[0m \u001b[0;32mis\u001b[0m \u001b[0;32mnot\u001b[0m \u001b[0;32mNone\u001b[0m\u001b[0;34m:\u001b[0m\u001b[0;34m\u001b[0m\u001b[0;34m\u001b[0m\u001b[0m\n",
          "\u001b[0;32m<ipython-input-5-64c6a8a4019d>\u001b[0m in \u001b[0;36moptimize\u001b[0;34m(a0, a1, fit_reg)\u001b[0m\n\u001b[1;32m     36\u001b[0m     \u001b[0mplt\u001b[0m\u001b[0;34m.\u001b[0m\u001b[0mgrid\u001b[0m\u001b[0;34m(\u001b[0m\u001b[0;34m)\u001b[0m\u001b[0;34m\u001b[0m\u001b[0;34m\u001b[0m\u001b[0m\n\u001b[1;32m     37\u001b[0m     \u001b[0mloss\u001b[0m \u001b[0;34m=\u001b[0m \u001b[0mget_loss\u001b[0m\u001b[0;34m(\u001b[0m\u001b[0ma0\u001b[0m\u001b[0;34m,\u001b[0m \u001b[0ma1\u001b[0m\u001b[0;34m)\u001b[0m\u001b[0;34m\u001b[0m\u001b[0;34m\u001b[0m\u001b[0m\n\u001b[0;32m---> 38\u001b[0;31m     \u001b[0mtext\u001b[0m\u001b[0;34m(\u001b[0m\u001b[0;36m0.01\u001b[0m\u001b[0;34m,\u001b[0m \u001b[0;36m0.95\u001b[0m\u001b[0;34m,\u001b[0m \u001b[0;34mf'Loss: {loss:.4f}'\u001b[0m\u001b[0;34m,\u001b[0m \u001b[0mtransform\u001b[0m\u001b[0;34m=\u001b[0m\u001b[0mgca\u001b[0m\u001b[0;34m(\u001b[0m\u001b[0;34m)\u001b[0m\u001b[0;34m.\u001b[0m\u001b[0mtransAxes\u001b[0m\u001b[0;34m)\u001b[0m\u001b[0;34m\u001b[0m\u001b[0;34m\u001b[0m\u001b[0m\n\u001b[0m\u001b[1;32m     39\u001b[0m     \u001b[0mxlabel\u001b[0m\u001b[0;34m(\u001b[0m\u001b[0;34m'$x$'\u001b[0m\u001b[0;34m)\u001b[0m\u001b[0;34m\u001b[0m\u001b[0;34m\u001b[0m\u001b[0m\n\u001b[1;32m     40\u001b[0m     \u001b[0mylabel\u001b[0m\u001b[0;34m(\u001b[0m\u001b[0;34m'$y$'\u001b[0m\u001b[0;34m)\u001b[0m\u001b[0;34m\u001b[0m\u001b[0;34m\u001b[0m\u001b[0m\n",
          "\u001b[0;31mNameError\u001b[0m: name 'text' is not defined"
         ]
        }
       ]
      }
     },
     "89a77185071a4835ae87dc06ccd6228f": {
      "model_module": "@jupyter-widgets/controls",
      "model_module_version": "1.5.0",
      "model_name": "FloatSliderModel",
      "state": {
       "description": "a1",
       "layout": "IPY_MODEL_3debe316273a41599269782179c5692b",
       "max": 3,
       "step": 0.01,
       "style": "IPY_MODEL_8fffea582b164068866a83af756c5ac5",
       "value": 1.54
      }
     },
     "8a0a582877174772a91cd450a57efde9": {
      "model_module": "@jupyter-widgets/controls",
      "model_module_version": "1.5.0",
      "model_name": "DescriptionStyleModel",
      "state": {
       "description_width": ""
      }
     },
     "8a7f3ad1fcfd4fbd858848b4089b77fe": {
      "model_module": "@jupyter-widgets/base",
      "model_module_version": "1.2.0",
      "model_name": "LayoutModel",
      "state": {}
     },
     "8bbc10bb853144ae83ed8cfe347958cd": {
      "model_module": "@jupyter-widgets/base",
      "model_module_version": "1.2.0",
      "model_name": "LayoutModel",
      "state": {}
     },
     "8df2d0460afd491d9e4834e9eea26745": {
      "model_module": "@jupyter-widgets/base",
      "model_module_version": "1.2.0",
      "model_name": "LayoutModel",
      "state": {}
     },
     "8e43c58ac17b4f4ca06ef2b6e4c83830": {
      "model_module": "@jupyter-widgets/base",
      "model_module_version": "1.2.0",
      "model_name": "LayoutModel",
      "state": {}
     },
     "8e4e8d7ec7094388b2628933c23b0ada": {
      "model_module": "@jupyter-widgets/controls",
      "model_module_version": "1.5.0",
      "model_name": "FloatSliderModel",
      "state": {
       "description": "a0",
       "layout": "IPY_MODEL_1ff27ffa7dfe42bca54264e72dc54234",
       "max": 15,
       "min": -5,
       "step": 0.01,
       "style": "IPY_MODEL_9b10645306734eba809846f2a496fc93",
       "value": -5
      }
     },
     "8e8620b2b56f4fcdbc76e2b4ee98a1c8": {
      "model_module": "@jupyter-widgets/controls",
      "model_module_version": "1.5.0",
      "model_name": "DescriptionStyleModel",
      "state": {
       "description_width": ""
      }
     },
     "8fcd84bffc54455abaaab212b253a09c": {
      "model_module": "@jupyter-widgets/base",
      "model_module_version": "1.2.0",
      "model_name": "LayoutModel",
      "state": {}
     },
     "8fffea582b164068866a83af756c5ac5": {
      "model_module": "@jupyter-widgets/controls",
      "model_module_version": "1.5.0",
      "model_name": "SliderStyleModel",
      "state": {
       "description_width": ""
      }
     },
     "904edfb64c434688a02b87f871ac9630": {
      "model_module": "@jupyter-widgets/base",
      "model_module_version": "1.2.0",
      "model_name": "LayoutModel",
      "state": {}
     },
     "90b5b823afda43b393b9b4322b3833e6": {
      "model_module": "@jupyter-widgets/base",
      "model_module_version": "1.2.0",
      "model_name": "LayoutModel",
      "state": {}
     },
     "93d1189a385549f7ae266612a1151458": {
      "model_module": "@jupyter-widgets/base",
      "model_module_version": "1.2.0",
      "model_name": "LayoutModel",
      "state": {}
     },
     "944e43fe2f9a4205ab25fcf715d399b2": {
      "model_module": "@jupyter-widgets/base",
      "model_module_version": "1.2.0",
      "model_name": "LayoutModel",
      "state": {}
     },
     "959873c4dc8c451fb547f6f25616a916": {
      "model_module": "@jupyter-widgets/controls",
      "model_module_version": "1.5.0",
      "model_name": "DescriptionStyleModel",
      "state": {
       "description_width": ""
      }
     },
     "95b0b5d1b6c14bc68fa6c12750484191": {
      "model_module": "@jupyter-widgets/controls",
      "model_module_version": "1.5.0",
      "model_name": "VBoxModel",
      "state": {
       "_dom_classes": [
        "widget-interact"
       ],
       "children": [
        "IPY_MODEL_dfe06d74644f42469e79593f9be4537c",
        "IPY_MODEL_d6b6d47cdb2a4d6480a807500118f8cd"
       ],
       "layout": "IPY_MODEL_0ff1ded6620841208419517eafc60071"
      }
     },
     "9664de9a725b4f63aa3cfca12316a935": {
      "model_module": "@jupyter-widgets/controls",
      "model_module_version": "1.5.0",
      "model_name": "FloatSliderModel",
      "state": {
       "description": "m",
       "layout": "IPY_MODEL_fd572f0a379449818a26c1dea872418b",
       "max": 2,
       "min": -2,
       "step": 0.1,
       "style": "IPY_MODEL_200059b09a2f449ea60a7451885c4204"
      }
     },
     "96985bc8c59e4612b148be051f653883": {
      "model_module": "@jupyter-widgets/controls",
      "model_module_version": "1.5.0",
      "model_name": "SliderStyleModel",
      "state": {
       "description_width": ""
      }
     },
     "988a0668501c4d658da6560c3fede6f5": {
      "model_module": "@jupyter-widgets/base",
      "model_module_version": "1.2.0",
      "model_name": "LayoutModel",
      "state": {}
     },
     "98b9c713309a48019a1e12817667bb4f": {
      "model_module": "@jupyter-widgets/base",
      "model_module_version": "1.2.0",
      "model_name": "LayoutModel",
      "state": {}
     },
     "98d7dc6250524a8fb72a614e7cce0150": {
      "model_module": "@jupyter-widgets/controls",
      "model_module_version": "1.5.0",
      "model_name": "SliderStyleModel",
      "state": {
       "description_width": ""
      }
     },
     "99611df9ed784b349937b416574ca138": {
      "model_module": "@jupyter-widgets/base",
      "model_module_version": "1.2.0",
      "model_name": "LayoutModel",
      "state": {}
     },
     "99f52c4efebf46a0b57c0b3b50e7c81e": {
      "model_module": "@jupyter-widgets/output",
      "model_module_version": "1.0.0",
      "model_name": "OutputModel",
      "state": {
       "layout": "IPY_MODEL_90b5b823afda43b393b9b4322b3833e6"
      }
     },
     "9a41112de7f048c4a3eabc4929729e72": {
      "model_module": "@jupyter-widgets/base",
      "model_module_version": "1.2.0",
      "model_name": "LayoutModel",
      "state": {}
     },
     "9b10645306734eba809846f2a496fc93": {
      "model_module": "@jupyter-widgets/controls",
      "model_module_version": "1.5.0",
      "model_name": "SliderStyleModel",
      "state": {
       "description_width": ""
      }
     },
     "9b91e41329b64756be9bd74d318bf589": {
      "model_module": "@jupyter-widgets/controls",
      "model_module_version": "1.5.0",
      "model_name": "SliderStyleModel",
      "state": {
       "description_width": ""
      }
     },
     "9ba7d1f5f7364d529804718cab53704d": {
      "model_module": "@jupyter-widgets/controls",
      "model_module_version": "1.5.0",
      "model_name": "DescriptionStyleModel",
      "state": {
       "description_width": ""
      }
     },
     "9c7250ed66d54510b7ad8c9d13909352": {
      "model_module": "@jupyter-widgets/controls",
      "model_module_version": "1.5.0",
      "model_name": "SliderStyleModel",
      "state": {
       "description_width": ""
      }
     },
     "9d6715b164d847aab9e8108b59d0316e": {
      "model_module": "@jupyter-widgets/base",
      "model_module_version": "1.2.0",
      "model_name": "LayoutModel",
      "state": {}
     },
     "9dc3c6be0d024c70a9e5d45dce45d3cd": {
      "model_module": "@jupyter-widgets/base",
      "model_module_version": "1.2.0",
      "model_name": "LayoutModel",
      "state": {
       "height": "350px"
      }
     },
     "9dfbe2e678794c689b2415b767c10f70": {
      "model_module": "@jupyter-widgets/controls",
      "model_module_version": "1.5.0",
      "model_name": "CheckboxModel",
      "state": {
       "description": "fit_reg",
       "disabled": false,
       "layout": "IPY_MODEL_a15431e28bf445789a748ed14150eeb2",
       "style": "IPY_MODEL_d73a4f3efe344dffa05e32ce46dfaf39",
       "value": false
      }
     },
     "9f6449cb5a864bb5b396ab0d4d193a1d": {
      "model_module": "@jupyter-widgets/base",
      "model_module_version": "1.2.0",
      "model_name": "LayoutModel",
      "state": {}
     },
     "a086bdd29e6047ecb815b844e31acd53": {
      "model_module": "@jupyter-widgets/base",
      "model_module_version": "1.2.0",
      "model_name": "LayoutModel",
      "state": {}
     },
     "a124d5160db84e98bb266e1cc5a426dc": {
      "model_module": "@jupyter-widgets/base",
      "model_module_version": "1.2.0",
      "model_name": "LayoutModel",
      "state": {}
     },
     "a15431e28bf445789a748ed14150eeb2": {
      "model_module": "@jupyter-widgets/base",
      "model_module_version": "1.2.0",
      "model_name": "LayoutModel",
      "state": {}
     },
     "a266dd83dc1c479493ee39197095401e": {
      "model_module": "@jupyter-widgets/base",
      "model_module_version": "1.2.0",
      "model_name": "LayoutModel",
      "state": {}
     },
     "a30aca145243482fbd53fd34ccac8733": {
      "model_module": "@jupyter-widgets/controls",
      "model_module_version": "1.5.0",
      "model_name": "FloatSliderModel",
      "state": {
       "description": "a0",
       "layout": "IPY_MODEL_041fcf89708c4fa599e33b2d5b7deba4",
       "max": 15,
       "min": -5,
       "step": 0.01,
       "style": "IPY_MODEL_e6a24182c9e24b2c9efc8e4c70998343",
       "value": 0.71
      }
     },
     "a3a0452c92c84d68a10e18a03e9278cb": {
      "model_module": "@jupyter-widgets/controls",
      "model_module_version": "1.5.0",
      "model_name": "SliderStyleModel",
      "state": {
       "description_width": ""
      }
     },
     "a4544664f2464c5c82c8f0289b2a9d13": {
      "model_module": "@jupyter-widgets/controls",
      "model_module_version": "1.5.0",
      "model_name": "IntSliderModel",
      "state": {
       "description": "x",
       "layout": "IPY_MODEL_6a0eb306f1924d069e1463042c2dd9d0",
       "style": "IPY_MODEL_d7ac34e9ae8e49f392d1a7c752377892",
       "value": 36
      }
     },
     "a4aa7ae1d14d402dafdbbbd29a8f7304": {
      "model_module": "@jupyter-widgets/base",
      "model_module_version": "1.2.0",
      "model_name": "LayoutModel",
      "state": {}
     },
     "a4ac49ea407a475ca32a1f3200d0e156": {
      "model_module": "@jupyter-widgets/base",
      "model_module_version": "1.2.0",
      "model_name": "LayoutModel",
      "state": {}
     },
     "a4eeb7b4336849db8928ad243cbd8ef9": {
      "model_module": "@jupyter-widgets/base",
      "model_module_version": "1.2.0",
      "model_name": "LayoutModel",
      "state": {}
     },
     "a566555ab7774f13a1669c5244f6233a": {
      "model_module": "@jupyter-widgets/base",
      "model_module_version": "1.2.0",
      "model_name": "LayoutModel",
      "state": {}
     },
     "a5a764dd18d64db6af6bbab73cdb5bb9": {
      "model_module": "@jupyter-widgets/controls",
      "model_module_version": "1.5.0",
      "model_name": "FloatSliderModel",
      "state": {
       "description": "m",
       "layout": "IPY_MODEL_98b9c713309a48019a1e12817667bb4f",
       "max": 2,
       "min": -2,
       "step": 0.1,
       "style": "IPY_MODEL_7a24040655d94d278896f50ca911b6b7"
      }
     },
     "a615cf2decb8423e9e0b3c5dce9258fe": {
      "model_module": "@jupyter-widgets/controls",
      "model_module_version": "1.5.0",
      "model_name": "FloatSliderModel",
      "state": {
       "description": "a1",
       "layout": "IPY_MODEL_66dbf7c78bd14cad9f655a10cf2e0299",
       "max": 3,
       "step": 0.01,
       "style": "IPY_MODEL_cd2bbd48c2aa46f19fc1d9afc155dfab",
       "value": 0.55
      }
     },
     "a846e2614b7345ec986cb9cb70fd1b70": {
      "model_module": "@jupyter-widgets/controls",
      "model_module_version": "1.5.0",
      "model_name": "FloatSliderModel",
      "state": {
       "description": "b",
       "layout": "IPY_MODEL_f3503421500e4ba695f821c31671c5cd",
       "max": 3,
       "min": -3,
       "step": 0.5,
       "style": "IPY_MODEL_15747173905242b3a4740afdb91dfbd1"
      }
     },
     "a88830eb8bee49378a1ec02a26c0f5ee": {
      "model_module": "@jupyter-widgets/base",
      "model_module_version": "1.2.0",
      "model_name": "LayoutModel",
      "state": {}
     },
     "a9107e4661d040279397715c86248224": {
      "model_module": "@jupyter-widgets/base",
      "model_module_version": "1.2.0",
      "model_name": "LayoutModel",
      "state": {}
     },
     "aa207c7a5215405281831be286aa713e": {
      "model_module": "@jupyter-widgets/base",
      "model_module_version": "1.2.0",
      "model_name": "LayoutModel",
      "state": {
       "height": "350px"
      }
     },
     "ac2692b198d3423883610d85bd9b33b6": {
      "model_module": "@jupyter-widgets/controls",
      "model_module_version": "1.5.0",
      "model_name": "SliderStyleModel",
      "state": {
       "description_width": ""
      }
     },
     "ac5fc27e86844e99a385c8854510b2c3": {
      "model_module": "@jupyter-widgets/controls",
      "model_module_version": "1.5.0",
      "model_name": "FloatSliderModel",
      "state": {
       "description": "m",
       "layout": "IPY_MODEL_93d1189a385549f7ae266612a1151458",
       "max": 2,
       "min": -2,
       "step": 0.1,
       "style": "IPY_MODEL_f9b7ec00a99d48bfaa1bb601764caaae"
      }
     },
     "ad44870012b84df0864056a52bbb1b0f": {
      "model_module": "@jupyter-widgets/base",
      "model_module_version": "1.2.0",
      "model_name": "LayoutModel",
      "state": {}
     },
     "ad76b98a812441509133f68c418987e9": {
      "model_module": "@jupyter-widgets/base",
      "model_module_version": "1.2.0",
      "model_name": "LayoutModel",
      "state": {}
     },
     "b01bd6b869ee47868d833e0b25d3df96": {
      "model_module": "@jupyter-widgets/controls",
      "model_module_version": "1.5.0",
      "model_name": "FloatSliderModel",
      "state": {
       "description": "m",
       "layout": "IPY_MODEL_40a005a83934430294a585d27eb9eae6",
       "max": 2,
       "min": -2,
       "step": 0.1,
       "style": "IPY_MODEL_0af5bbcf6a3b4b578abae7effe169012"
      }
     },
     "b03365688ad64e2e999f00bb8748b897": {
      "model_module": "@jupyter-widgets/controls",
      "model_module_version": "1.5.0",
      "model_name": "SliderStyleModel",
      "state": {
       "description_width": ""
      }
     },
     "b0afc9365366430f9dae59078b0f6290": {
      "model_module": "@jupyter-widgets/base",
      "model_module_version": "1.2.0",
      "model_name": "LayoutModel",
      "state": {}
     },
     "b0cea265d2644475bc5146782d421865": {
      "model_module": "@jupyter-widgets/base",
      "model_module_version": "1.2.0",
      "model_name": "LayoutModel",
      "state": {}
     },
     "b0e564ce37ab4f53a0db89fcea4fe8ec": {
      "model_module": "@jupyter-widgets/controls",
      "model_module_version": "1.5.0",
      "model_name": "VBoxModel",
      "state": {
       "_dom_classes": [
        "widget-interact"
       ],
       "children": [
        "IPY_MODEL_ac5fc27e86844e99a385c8854510b2c3",
        "IPY_MODEL_eb8f9a82e52f4d1bbb17ec70d8645002",
        "IPY_MODEL_30753ca280da46a7b65604dfcf7eaa0d"
       ],
       "layout": "IPY_MODEL_3bef91540acc446183906c837b49006c"
      }
     },
     "b1c3eca448dc4d95b7761b5fdaa9ac8f": {
      "model_module": "@jupyter-widgets/output",
      "model_module_version": "1.0.0",
      "model_name": "OutputModel",
      "state": {
       "layout": "IPY_MODEL_2a606436a2434257ab4701e802b43f06"
      }
     },
     "b2721cdf481c4d2aa0b70d19964e7132": {
      "model_module": "@jupyter-widgets/base",
      "model_module_version": "1.2.0",
      "model_name": "LayoutModel",
      "state": {}
     },
     "b3cee17331724a20af8373687bb039dd": {
      "model_module": "@jupyter-widgets/base",
      "model_module_version": "1.2.0",
      "model_name": "LayoutModel",
      "state": {}
     },
     "b427c5e4c4fb4089ac7b3388b99b91be": {
      "model_module": "@jupyter-widgets/base",
      "model_module_version": "1.2.0",
      "model_name": "LayoutModel",
      "state": {}
     },
     "b4a6336887bc4f888c833236be805e73": {
      "model_module": "@jupyter-widgets/controls",
      "model_module_version": "1.5.0",
      "model_name": "VBoxModel",
      "state": {
       "_dom_classes": [
        "widget-interact"
       ],
       "children": [
        "IPY_MODEL_9664de9a725b4f63aa3cfca12316a935",
        "IPY_MODEL_d33da56cab684518b312fe793e013b82",
        "IPY_MODEL_d983589095d649388bb1bc84b4f6bea1"
       ],
       "layout": "IPY_MODEL_a124d5160db84e98bb266e1cc5a426dc"
      }
     },
     "b5c3e7d9c0484d00bfabb318186b4971": {
      "model_module": "@jupyter-widgets/controls",
      "model_module_version": "1.5.0",
      "model_name": "SliderStyleModel",
      "state": {
       "description_width": ""
      }
     },
     "b6d45828a13e4a749e7ca4993c1f2ff5": {
      "model_module": "@jupyter-widgets/controls",
      "model_module_version": "1.5.0",
      "model_name": "FloatSliderModel",
      "state": {
       "description": "a1",
       "layout": "IPY_MODEL_bceffec412a0459a95f57d577d8a91be",
       "max": 3,
       "step": 0.01,
       "style": "IPY_MODEL_23071e1c785e4d3cb5544acb064ad34a"
      }
     },
     "b6f8a7397c88497e9e8ab21f8a13f551": {
      "model_module": "@jupyter-widgets/controls",
      "model_module_version": "1.5.0",
      "model_name": "DescriptionStyleModel",
      "state": {
       "description_width": ""
      }
     },
     "b727451196b54a79af2d1674116d1790": {
      "model_module": "@jupyter-widgets/controls",
      "model_module_version": "1.5.0",
      "model_name": "SliderStyleModel",
      "state": {
       "description_width": ""
      }
     },
     "b7e2755f703a4c7faf27cbbc8398aa45": {
      "model_module": "@jupyter-widgets/controls",
      "model_module_version": "1.5.0",
      "model_name": "FloatSliderModel",
      "state": {
       "description": "a0",
       "layout": "IPY_MODEL_d8f2b1c0087f4b9aa130b8f08491fefb",
       "max": 15,
       "min": -5,
       "step": 0.01,
       "style": "IPY_MODEL_4b39187b9c4e44908bf16353af808f7e",
       "value": 5
      }
     },
     "b91f497da2ad45c2860b48344c0d6b64": {
      "model_module": "@jupyter-widgets/controls",
      "model_module_version": "1.5.0",
      "model_name": "CheckboxModel",
      "state": {
       "description": "fit_reg",
       "disabled": false,
       "layout": "IPY_MODEL_649dfdac8ddc4812897a72f40fa29584",
       "style": "IPY_MODEL_b6f8a7397c88497e9e8ab21f8a13f551",
       "value": false
      }
     },
     "bcc6f6301d06470486a3fe765f16a5f3": {
      "model_module": "@jupyter-widgets/controls",
      "model_module_version": "1.5.0",
      "model_name": "FloatSliderModel",
      "state": {
       "description": "a1",
       "layout": "IPY_MODEL_550fb0a542c1472d8909fb137b2004ba",
       "max": 3,
       "step": 0.01,
       "style": "IPY_MODEL_f24d52a0eb0645daa9d3b625d4c76fa9"
      }
     },
     "bceffec412a0459a95f57d577d8a91be": {
      "model_module": "@jupyter-widgets/base",
      "model_module_version": "1.2.0",
      "model_name": "LayoutModel",
      "state": {}
     },
     "be1faf01aaa740b6adeaa34889417e62": {
      "model_module": "@jupyter-widgets/base",
      "model_module_version": "1.2.0",
      "model_name": "LayoutModel",
      "state": {}
     },
     "beb83b33bc0544efbae3192a1edb2e84": {
      "model_module": "@jupyter-widgets/controls",
      "model_module_version": "1.5.0",
      "model_name": "FloatSliderModel",
      "state": {
       "description": "a1",
       "layout": "IPY_MODEL_f0831bc350e84985a69175cda2902a2e",
       "max": 3,
       "step": 0.01,
       "style": "IPY_MODEL_14838b5d138d4457b24283ecec64edf5"
      }
     },
     "beddd2da3b2543a9a1b56e2303168b1b": {
      "model_module": "@jupyter-widgets/output",
      "model_module_version": "1.0.0",
      "model_name": "OutputModel",
      "state": {
       "layout": "IPY_MODEL_b0cea265d2644475bc5146782d421865",
       "outputs": [
        {
         "ename": "NameError",
         "evalue": "name 'gca' is not defined",
         "output_type": "error",
         "traceback": [
          "\u001b[0;31m---------------------------------------------------------------------------\u001b[0m",
          "\u001b[0;31mNameError\u001b[0m                                 Traceback (most recent call last)",
          "\u001b[0;32m~/opt/anaconda3/envs/mdtools/lib/python3.8/site-packages/ipywidgets/widgets/interaction.py\u001b[0m in \u001b[0;36mupdate\u001b[0;34m(self, *args)\u001b[0m\n\u001b[1;32m    254\u001b[0m                     \u001b[0mvalue\u001b[0m \u001b[0;34m=\u001b[0m \u001b[0mwidget\u001b[0m\u001b[0;34m.\u001b[0m\u001b[0mget_interact_value\u001b[0m\u001b[0;34m(\u001b[0m\u001b[0;34m)\u001b[0m\u001b[0;34m\u001b[0m\u001b[0;34m\u001b[0m\u001b[0m\n\u001b[1;32m    255\u001b[0m                     \u001b[0mself\u001b[0m\u001b[0;34m.\u001b[0m\u001b[0mkwargs\u001b[0m\u001b[0;34m[\u001b[0m\u001b[0mwidget\u001b[0m\u001b[0;34m.\u001b[0m\u001b[0m_kwarg\u001b[0m\u001b[0;34m]\u001b[0m \u001b[0;34m=\u001b[0m \u001b[0mvalue\u001b[0m\u001b[0;34m\u001b[0m\u001b[0;34m\u001b[0m\u001b[0m\n\u001b[0;32m--> 256\u001b[0;31m                 \u001b[0mself\u001b[0m\u001b[0;34m.\u001b[0m\u001b[0mresult\u001b[0m \u001b[0;34m=\u001b[0m \u001b[0mself\u001b[0m\u001b[0;34m.\u001b[0m\u001b[0mf\u001b[0m\u001b[0;34m(\u001b[0m\u001b[0;34m**\u001b[0m\u001b[0mself\u001b[0m\u001b[0;34m.\u001b[0m\u001b[0mkwargs\u001b[0m\u001b[0;34m)\u001b[0m\u001b[0;34m\u001b[0m\u001b[0;34m\u001b[0m\u001b[0m\n\u001b[0m\u001b[1;32m    257\u001b[0m                 \u001b[0mshow_inline_matplotlib_plots\u001b[0m\u001b[0;34m(\u001b[0m\u001b[0;34m)\u001b[0m\u001b[0;34m\u001b[0m\u001b[0;34m\u001b[0m\u001b[0m\n\u001b[1;32m    258\u001b[0m                 \u001b[0;32mif\u001b[0m \u001b[0mself\u001b[0m\u001b[0;34m.\u001b[0m\u001b[0mauto_display\u001b[0m \u001b[0;32mand\u001b[0m \u001b[0mself\u001b[0m\u001b[0;34m.\u001b[0m\u001b[0mresult\u001b[0m \u001b[0;32mis\u001b[0m \u001b[0;32mnot\u001b[0m \u001b[0;32mNone\u001b[0m\u001b[0;34m:\u001b[0m\u001b[0;34m\u001b[0m\u001b[0;34m\u001b[0m\u001b[0m\n",
          "\u001b[0;32m<ipython-input-6-8f9e8c6fec5e>\u001b[0m in \u001b[0;36moptimize\u001b[0;34m(a0, a1, fit_reg)\u001b[0m\n\u001b[1;32m     36\u001b[0m     \u001b[0mplt\u001b[0m\u001b[0;34m.\u001b[0m\u001b[0mgrid\u001b[0m\u001b[0;34m(\u001b[0m\u001b[0;34m)\u001b[0m\u001b[0;34m\u001b[0m\u001b[0;34m\u001b[0m\u001b[0m\n\u001b[1;32m     37\u001b[0m     \u001b[0mloss\u001b[0m \u001b[0;34m=\u001b[0m \u001b[0mget_loss\u001b[0m\u001b[0;34m(\u001b[0m\u001b[0ma0\u001b[0m\u001b[0;34m,\u001b[0m \u001b[0ma1\u001b[0m\u001b[0;34m)\u001b[0m\u001b[0;34m\u001b[0m\u001b[0;34m\u001b[0m\u001b[0m\n\u001b[0;32m---> 38\u001b[0;31m     \u001b[0mplt\u001b[0m\u001b[0;34m.\u001b[0m\u001b[0mtext\u001b[0m\u001b[0;34m(\u001b[0m\u001b[0;36m0.01\u001b[0m\u001b[0;34m,\u001b[0m \u001b[0;36m0.95\u001b[0m\u001b[0;34m,\u001b[0m \u001b[0;34mf'Loss: {loss:.4f}'\u001b[0m\u001b[0;34m,\u001b[0m \u001b[0mtransform\u001b[0m\u001b[0;34m=\u001b[0m\u001b[0mgca\u001b[0m\u001b[0;34m(\u001b[0m\u001b[0;34m)\u001b[0m\u001b[0;34m.\u001b[0m\u001b[0mtransAxes\u001b[0m\u001b[0;34m)\u001b[0m\u001b[0;34m\u001b[0m\u001b[0;34m\u001b[0m\u001b[0m\n\u001b[0m\u001b[1;32m     39\u001b[0m     \u001b[0mxlabel\u001b[0m\u001b[0;34m(\u001b[0m\u001b[0;34m'$x$'\u001b[0m\u001b[0;34m)\u001b[0m\u001b[0;34m\u001b[0m\u001b[0;34m\u001b[0m\u001b[0m\n\u001b[1;32m     40\u001b[0m     \u001b[0mylabel\u001b[0m\u001b[0;34m(\u001b[0m\u001b[0;34m'$y$'\u001b[0m\u001b[0;34m)\u001b[0m\u001b[0;34m\u001b[0m\u001b[0;34m\u001b[0m\u001b[0m\n",
          "\u001b[0;31mNameError\u001b[0m: name 'gca' is not defined"
         ]
        }
       ]
      }
     },
     "bee9dd0ad4ac4f439387dc33c9f8de01": {
      "model_module": "@jupyter-widgets/base",
      "model_module_version": "1.2.0",
      "model_name": "LayoutModel",
      "state": {}
     },
     "bf7b931cfe0147718a8ade0bf52aceec": {
      "model_module": "@jupyter-widgets/controls",
      "model_module_version": "1.5.0",
      "model_name": "SliderStyleModel",
      "state": {
       "description_width": ""
      }
     },
     "c0df1bc054d04a95b2a02f313e71cc5f": {
      "model_module": "@jupyter-widgets/controls",
      "model_module_version": "1.5.0",
      "model_name": "FloatSliderModel",
      "state": {
       "description": "a0",
       "layout": "IPY_MODEL_f262a152d2174aeeab652c5cee4634cb",
       "max": 15,
       "min": -5,
       "step": 0.01,
       "style": "IPY_MODEL_d94be0b53ea54a1883ab00eef4e31b3f",
       "value": 5
      }
     },
     "c3249a6668394e988fbfda1b3c89f093": {
      "model_module": "@jupyter-widgets/output",
      "model_module_version": "1.0.0",
      "model_name": "OutputModel",
      "state": {
       "layout": "IPY_MODEL_a4ac49ea407a475ca32a1f3200d0e156"
      }
     },
     "c3a7a04aba1249d7b123e731f3aed5ac": {
      "model_module": "@jupyter-widgets/controls",
      "model_module_version": "1.5.0",
      "model_name": "FloatSliderModel",
      "state": {
       "description": "a0",
       "layout": "IPY_MODEL_be1faf01aaa740b6adeaa34889417e62",
       "max": 15,
       "min": -5,
       "step": 0.01,
       "style": "IPY_MODEL_8484da432cdd414c9bd3bbad7464d5d8",
       "value": 5
      }
     },
     "c4a63ad4eb4348028b3650ec81bb7660": {
      "model_module": "@jupyter-widgets/controls",
      "model_module_version": "1.5.0",
      "model_name": "FloatSliderModel",
      "state": {
       "description": "a0",
       "layout": "IPY_MODEL_e8f5af54847c49cab426c1b72c07eb1e",
       "max": 15,
       "min": -5,
       "step": 0.01,
       "style": "IPY_MODEL_a3a0452c92c84d68a10e18a03e9278cb",
       "value": 5
      }
     },
     "c603d5ece3414c619a6f4f67da57de3d": {
      "model_module": "@jupyter-widgets/base",
      "model_module_version": "1.2.0",
      "model_name": "LayoutModel",
      "state": {
       "height": "350px"
      }
     },
     "c6832f8ae7894b7ca02bcacba8d667a2": {
      "model_module": "@jupyter-widgets/controls",
      "model_module_version": "1.5.0",
      "model_name": "FloatSliderModel",
      "state": {
       "description": "a0",
       "layout": "IPY_MODEL_b427c5e4c4fb4089ac7b3388b99b91be",
       "max": 15,
       "min": -5,
       "step": 0.01,
       "style": "IPY_MODEL_31d1973b903d46fe8f188cd6618320dd",
       "value": 3.13
      }
     },
     "c6afb40fe5114c95a83205735b481c0b": {
      "model_module": "@jupyter-widgets/controls",
      "model_module_version": "1.5.0",
      "model_name": "CheckboxModel",
      "state": {
       "description": "fit_reg",
       "disabled": false,
       "layout": "IPY_MODEL_15896872a01a440aa43ad89f24af9b63",
       "style": "IPY_MODEL_007453af110a41c69882a2ae13666627",
       "value": false
      }
     },
     "c6e069191bc24beaba81fdb871099390": {
      "model_module": "@jupyter-widgets/base",
      "model_module_version": "1.2.0",
      "model_name": "LayoutModel",
      "state": {}
     },
     "c7995ec6bd334b93a4065b012761f6ab": {
      "model_module": "@jupyter-widgets/controls",
      "model_module_version": "1.5.0",
      "model_name": "VBoxModel",
      "state": {
       "_dom_classes": [
        "widget-interact"
       ],
       "children": [
        "IPY_MODEL_0597fb826e1a4ac7a63505d5ced4b55f",
        "IPY_MODEL_eb7edd12f6f746c8b5b0c855decf390b"
       ],
       "layout": "IPY_MODEL_35d88941868847e2ad264721ea1503bd"
      }
     },
     "c79f34a05b16458784cab9d3770d5f6d": {
      "model_module": "@jupyter-widgets/controls",
      "model_module_version": "1.5.0",
      "model_name": "SliderStyleModel",
      "state": {
       "description_width": ""
      }
     },
     "caca2b697afb46f3911b87be11ba03a4": {
      "model_module": "@jupyter-widgets/base",
      "model_module_version": "1.2.0",
      "model_name": "LayoutModel",
      "state": {}
     },
     "cc5940b86f0340839a98bb27fb5ffa16": {
      "model_module": "@jupyter-widgets/output",
      "model_module_version": "1.0.0",
      "model_name": "OutputModel",
      "state": {
       "layout": "IPY_MODEL_48b022efcffa4f30afdbd7e072dec92d"
      }
     },
     "cc5e0a0324ee4bb68fe1fdd1d7090fa7": {
      "model_module": "@jupyter-widgets/controls",
      "model_module_version": "1.5.0",
      "model_name": "VBoxModel",
      "state": {
       "_dom_classes": [
        "widget-interact"
       ],
       "children": [
        "IPY_MODEL_06611b7e1f514d52aab4c79b2463da29",
        "IPY_MODEL_e02844dd4e054d84bbec6a8a87ce6e62",
        "IPY_MODEL_7fa1ca43b4b34b60a0d61e4d69d88b24"
       ],
       "layout": "IPY_MODEL_eb3321b72c2b45eb974928a1e4c5f982"
      }
     },
     "cceeb84536a7420fa6e8a9f39e79c7d7": {
      "model_module": "@jupyter-widgets/base",
      "model_module_version": "1.2.0",
      "model_name": "LayoutModel",
      "state": {}
     },
     "cd2bbd48c2aa46f19fc1d9afc155dfab": {
      "model_module": "@jupyter-widgets/controls",
      "model_module_version": "1.5.0",
      "model_name": "SliderStyleModel",
      "state": {
       "description_width": ""
      }
     },
     "cd9b0563f2844f31878f9de26edb0d09": {
      "model_module": "@jupyter-widgets/controls",
      "model_module_version": "1.5.0",
      "model_name": "SliderStyleModel",
      "state": {
       "description_width": ""
      }
     },
     "ce5b04cf9f754cc2afca70d6f323d898": {
      "model_module": "@jupyter-widgets/controls",
      "model_module_version": "1.5.0",
      "model_name": "SliderStyleModel",
      "state": {
       "description_width": ""
      }
     },
     "cf60d05ad3364ed8872e088306f6f944": {
      "model_module": "@jupyter-widgets/controls",
      "model_module_version": "1.5.0",
      "model_name": "CheckboxModel",
      "state": {
       "description": "fit_reg",
       "disabled": false,
       "layout": "IPY_MODEL_99611df9ed784b349937b416574ca138",
       "style": "IPY_MODEL_8029ac88b7a5401ea19aac0da433bd4f",
       "value": false
      }
     },
     "d14907877ff34d22b7eb02f8e5cb5bdb": {
      "model_module": "@jupyter-widgets/controls",
      "model_module_version": "1.5.0",
      "model_name": "IntSliderModel",
      "state": {
       "description": "x",
       "layout": "IPY_MODEL_6391c3b43a4947e493001f64dd17ffca",
       "style": "IPY_MODEL_02fe1afb778c4c73b7a27a7e3983ae59",
       "value": 50
      }
     },
     "d17cd5a9140241078b02ff11ae1ef523": {
      "model_module": "@jupyter-widgets/controls",
      "model_module_version": "1.5.0",
      "model_name": "SliderStyleModel",
      "state": {
       "description_width": ""
      }
     },
     "d1a23bee84374758933007e13e2221c0": {
      "model_module": "@jupyter-widgets/base",
      "model_module_version": "1.2.0",
      "model_name": "LayoutModel",
      "state": {}
     },
     "d302ec7aa9614d9f8d164428fc5f90b4": {
      "model_module": "@jupyter-widgets/base",
      "model_module_version": "1.2.0",
      "model_name": "LayoutModel",
      "state": {}
     },
     "d33da56cab684518b312fe793e013b82": {
      "model_module": "@jupyter-widgets/controls",
      "model_module_version": "1.5.0",
      "model_name": "FloatSliderModel",
      "state": {
       "description": "b",
       "layout": "IPY_MODEL_59eee8c04208498aaa273b2cba3cd569",
       "max": 3,
       "min": -3,
       "step": 0.5,
       "style": "IPY_MODEL_e3b04b0138a54107bdb50704a7aec7c0"
      }
     },
     "d3bbf21aa97a4efb827e29a58de593d9": {
      "model_module": "@jupyter-widgets/base",
      "model_module_version": "1.2.0",
      "model_name": "LayoutModel",
      "state": {}
     },
     "d44d059f5c014e578fb05c2ac7bed61d": {
      "model_module": "@jupyter-widgets/controls",
      "model_module_version": "1.5.0",
      "model_name": "VBoxModel",
      "state": {
       "_dom_classes": [
        "widget-interact"
       ],
       "children": [
        "IPY_MODEL_520de616c4004776a10026c2a732fd54",
        "IPY_MODEL_5fa411cd56c54acbbad1905e0f75abc6",
        "IPY_MODEL_1fedae0ba8b34622868bd9ee2a7c3723",
        "IPY_MODEL_dd53a152a77840b9962b6583c7b86ffd"
       ],
       "layout": "IPY_MODEL_cceeb84536a7420fa6e8a9f39e79c7d7"
      }
     },
     "d57f5899f86a469ebbcf7269a2be3cfe": {
      "model_module": "@jupyter-widgets/controls",
      "model_module_version": "1.5.0",
      "model_name": "VBoxModel",
      "state": {
       "_dom_classes": [
        "widget-interact"
       ],
       "children": [
        "IPY_MODEL_8e4e8d7ec7094388b2628933c23b0ada",
        "IPY_MODEL_b6d45828a13e4a749e7ca4993c1f2ff5",
        "IPY_MODEL_85c0306171f74d288517ff1077655de2",
        "IPY_MODEL_ffd1c31857f44b78a913e8ff6ed9d4ef"
       ],
       "layout": "IPY_MODEL_09a7593277484f2d85582d59c6a3bc85"
      }
     },
     "d584b92a1dfb44dd97161c31d6495baf": {
      "model_module": "@jupyter-widgets/controls",
      "model_module_version": "1.5.0",
      "model_name": "SliderStyleModel",
      "state": {
       "description_width": ""
      }
     },
     "d666418694014c57beef4f7bbc742a37": {
      "model_module": "@jupyter-widgets/base",
      "model_module_version": "1.2.0",
      "model_name": "LayoutModel",
      "state": {}
     },
     "d6b6d47cdb2a4d6480a807500118f8cd": {
      "model_module": "@jupyter-widgets/output",
      "model_module_version": "1.0.0",
      "model_name": "OutputModel",
      "state": {
       "layout": "IPY_MODEL_9a41112de7f048c4a3eabc4929729e72"
      }
     },
     "d73a4f3efe344dffa05e32ce46dfaf39": {
      "model_module": "@jupyter-widgets/controls",
      "model_module_version": "1.5.0",
      "model_name": "DescriptionStyleModel",
      "state": {
       "description_width": ""
      }
     },
     "d7ac34e9ae8e49f392d1a7c752377892": {
      "model_module": "@jupyter-widgets/controls",
      "model_module_version": "1.5.0",
      "model_name": "SliderStyleModel",
      "state": {
       "description_width": ""
      }
     },
     "d89b4945a865482ca928dc93b4cc4172": {
      "model_module": "@jupyter-widgets/controls",
      "model_module_version": "1.5.0",
      "model_name": "VBoxModel",
      "state": {
       "_dom_classes": [
        "widget-interact"
       ],
       "children": [
        "IPY_MODEL_c6832f8ae7894b7ca02bcacba8d667a2",
        "IPY_MODEL_a615cf2decb8423e9e0b3c5dce9258fe",
        "IPY_MODEL_7137a00db9a44f5b96b193cb549273d7",
        "IPY_MODEL_71e4b6f2e7324ff6b5fe20c59b377001"
       ],
       "layout": "IPY_MODEL_8e43c58ac17b4f4ca06ef2b6e4c83830"
      }
     },
     "d8f2b1c0087f4b9aa130b8f08491fefb": {
      "model_module": "@jupyter-widgets/base",
      "model_module_version": "1.2.0",
      "model_name": "LayoutModel",
      "state": {}
     },
     "d94be0b53ea54a1883ab00eef4e31b3f": {
      "model_module": "@jupyter-widgets/controls",
      "model_module_version": "1.5.0",
      "model_name": "SliderStyleModel",
      "state": {
       "description_width": ""
      }
     },
     "d97ae522d2694c3d92342869f0bbdf3e": {
      "model_module": "@jupyter-widgets/base",
      "model_module_version": "1.2.0",
      "model_name": "LayoutModel",
      "state": {
       "height": "350px"
      }
     },
     "d983589095d649388bb1bc84b4f6bea1": {
      "model_module": "@jupyter-widgets/output",
      "model_module_version": "1.0.0",
      "model_name": "OutputModel",
      "state": {
       "layout": "IPY_MODEL_d97ae522d2694c3d92342869f0bbdf3e"
      }
     },
     "d9c90e2b2334472eb92b867a4e9aa5b1": {
      "model_module": "@jupyter-widgets/controls",
      "model_module_version": "1.5.0",
      "model_name": "SliderStyleModel",
      "state": {
       "description_width": ""
      }
     },
     "d9cf392625954cc5bb8b846d10b11624": {
      "model_module": "@jupyter-widgets/controls",
      "model_module_version": "1.5.0",
      "model_name": "SliderStyleModel",
      "state": {
       "description_width": ""
      }
     },
     "db2afd9483d64a09a70b52fed265c2e0": {
      "model_module": "@jupyter-widgets/controls",
      "model_module_version": "1.5.0",
      "model_name": "DescriptionStyleModel",
      "state": {
       "description_width": ""
      }
     },
     "db7f5d4f9de6442ab476bc2a4397b9e5": {
      "model_module": "@jupyter-widgets/base",
      "model_module_version": "1.2.0",
      "model_name": "LayoutModel",
      "state": {}
     },
     "dc01fa03ef36405abff9a2af8f161d5f": {
      "model_module": "@jupyter-widgets/base",
      "model_module_version": "1.2.0",
      "model_name": "LayoutModel",
      "state": {}
     },
     "dd53a152a77840b9962b6583c7b86ffd": {
      "model_module": "@jupyter-widgets/output",
      "model_module_version": "1.0.0",
      "model_name": "OutputModel",
      "state": {
       "layout": "IPY_MODEL_f7e435c9af2545a4b79e875441d26ff2"
      }
     },
     "dd9678181d184b62a26fc2030f1c7034": {
      "model_module": "@jupyter-widgets/controls",
      "model_module_version": "1.5.0",
      "model_name": "FloatSliderModel",
      "state": {
       "description": "a0",
       "layout": "IPY_MODEL_545eaa73819746149313ac44339cd038",
       "max": 15,
       "min": -5,
       "step": 0.01,
       "style": "IPY_MODEL_e0ade3dc84754bab8fc39c38d547f555",
       "value": 5
      }
     },
     "de4d68997401446393c7f0433251ec7e": {
      "model_module": "@jupyter-widgets/base",
      "model_module_version": "1.2.0",
      "model_name": "LayoutModel",
      "state": {}
     },
     "dfe06d74644f42469e79593f9be4537c": {
      "model_module": "@jupyter-widgets/controls",
      "model_module_version": "1.5.0",
      "model_name": "IntSliderModel",
      "state": {
       "description": "x",
       "layout": "IPY_MODEL_8bbc10bb853144ae83ed8cfe347958cd",
       "style": "IPY_MODEL_d17cd5a9140241078b02ff11ae1ef523",
       "value": 88
      }
     },
     "e02844dd4e054d84bbec6a8a87ce6e62": {
      "model_module": "@jupyter-widgets/controls",
      "model_module_version": "1.5.0",
      "model_name": "FloatSliderModel",
      "state": {
       "description": "b",
       "layout": "IPY_MODEL_79b5662e756b4ed7ae0046703e881374",
       "max": 3,
       "min": -3,
       "step": 0.5,
       "style": "IPY_MODEL_9c7250ed66d54510b7ad8c9d13909352"
      }
     },
     "e0ade3dc84754bab8fc39c38d547f555": {
      "model_module": "@jupyter-widgets/controls",
      "model_module_version": "1.5.0",
      "model_name": "SliderStyleModel",
      "state": {
       "description_width": ""
      }
     },
     "e15ca53aad24439592503c9943776485": {
      "model_module": "@jupyter-widgets/controls",
      "model_module_version": "1.5.0",
      "model_name": "CheckboxModel",
      "state": {
       "description": "fit_reg",
       "disabled": false,
       "layout": "IPY_MODEL_f59916a5d6fe41e3b26531922fbd0447",
       "style": "IPY_MODEL_e97fdd0e92f741c091829d4b5f3a6f41",
       "value": false
      }
     },
     "e1c8a7d9977f49b98fccf286af50cc93": {
      "model_module": "@jupyter-widgets/controls",
      "model_module_version": "1.5.0",
      "model_name": "VBoxModel",
      "state": {
       "_dom_classes": [
        "widget-interact"
       ],
       "children": [
        "IPY_MODEL_f68ebc85b45543048b9426c3b3d289f6",
        "IPY_MODEL_12299d6716d44ff8b7b3d27abbe7329e",
        "IPY_MODEL_442e53fcd5a746988932b78131157fde",
        "IPY_MODEL_24c16ecd7a6448e992681a4d900e5459"
       ],
       "layout": "IPY_MODEL_2557418137d5405ab3eda8e2f1f52095"
      }
     },
     "e325559a2de2405f882bf8a0d88effe8": {
      "model_module": "@jupyter-widgets/base",
      "model_module_version": "1.2.0",
      "model_name": "LayoutModel",
      "state": {}
     },
     "e349ecc4afb6415586333f2e43a377a7": {
      "model_module": "@jupyter-widgets/base",
      "model_module_version": "1.2.0",
      "model_name": "LayoutModel",
      "state": {}
     },
     "e3b04b0138a54107bdb50704a7aec7c0": {
      "model_module": "@jupyter-widgets/controls",
      "model_module_version": "1.5.0",
      "model_name": "SliderStyleModel",
      "state": {
       "description_width": ""
      }
     },
     "e554ee0d1d974f358f2e02ce347c0159": {
      "model_module": "@jupyter-widgets/output",
      "model_module_version": "1.0.0",
      "model_name": "OutputModel",
      "state": {
       "layout": "IPY_MODEL_aa207c7a5215405281831be286aa713e"
      }
     },
     "e5604034c36342e9bbf30e2448d3086c": {
      "model_module": "@jupyter-widgets/base",
      "model_module_version": "1.2.0",
      "model_name": "LayoutModel",
      "state": {}
     },
     "e6a24182c9e24b2c9efc8e4c70998343": {
      "model_module": "@jupyter-widgets/controls",
      "model_module_version": "1.5.0",
      "model_name": "SliderStyleModel",
      "state": {
       "description_width": ""
      }
     },
     "e88e9129171b4160be0ae166b71fa9fe": {
      "model_module": "@jupyter-widgets/controls",
      "model_module_version": "1.5.0",
      "model_name": "SliderStyleModel",
      "state": {
       "description_width": ""
      }
     },
     "e8f5af54847c49cab426c1b72c07eb1e": {
      "model_module": "@jupyter-widgets/base",
      "model_module_version": "1.2.0",
      "model_name": "LayoutModel",
      "state": {}
     },
     "e906f9336c3246f28354fa5acc3ef424": {
      "model_module": "@jupyter-widgets/controls",
      "model_module_version": "1.5.0",
      "model_name": "FloatSliderModel",
      "state": {
       "description": "a0",
       "layout": "IPY_MODEL_3c1f1dc466bc4f4098b6357dd3d98618",
       "max": 15,
       "min": -5,
       "step": 0.01,
       "style": "IPY_MODEL_b03365688ad64e2e999f00bb8748b897",
       "value": 5
      }
     },
     "e97fdd0e92f741c091829d4b5f3a6f41": {
      "model_module": "@jupyter-widgets/controls",
      "model_module_version": "1.5.0",
      "model_name": "DescriptionStyleModel",
      "state": {
       "description_width": ""
      }
     },
     "e9b5c74920cb4ddfa0e8b9c1f1a55d50": {
      "model_module": "@jupyter-widgets/controls",
      "model_module_version": "1.5.0",
      "model_name": "SliderStyleModel",
      "state": {
       "description_width": ""
      }
     },
     "e9ee6d73b3b2445898031ccdc2ad0de6": {
      "model_module": "@jupyter-widgets/base",
      "model_module_version": "1.2.0",
      "model_name": "LayoutModel",
      "state": {}
     },
     "eb0c89e93d604574be303398a5578ec0": {
      "model_module": "@jupyter-widgets/base",
      "model_module_version": "1.2.0",
      "model_name": "LayoutModel",
      "state": {}
     },
     "eb3321b72c2b45eb974928a1e4c5f982": {
      "model_module": "@jupyter-widgets/base",
      "model_module_version": "1.2.0",
      "model_name": "LayoutModel",
      "state": {}
     },
     "eb78d4fbb5ac406da105ede91bff6631": {
      "model_module": "@jupyter-widgets/base",
      "model_module_version": "1.2.0",
      "model_name": "LayoutModel",
      "state": {
       "height": "350px"
      }
     },
     "eb7edd12f6f746c8b5b0c855decf390b": {
      "model_module": "@jupyter-widgets/output",
      "model_module_version": "1.0.0",
      "model_name": "OutputModel",
      "state": {
       "layout": "IPY_MODEL_9f6449cb5a864bb5b396ab0d4d193a1d"
      }
     },
     "eb8f9a82e52f4d1bbb17ec70d8645002": {
      "model_module": "@jupyter-widgets/controls",
      "model_module_version": "1.5.0",
      "model_name": "FloatSliderModel",
      "state": {
       "description": "b",
       "layout": "IPY_MODEL_eb0c89e93d604574be303398a5578ec0",
       "max": 3,
       "min": -3,
       "step": 0.5,
       "style": "IPY_MODEL_ac2692b198d3423883610d85bd9b33b6"
      }
     },
     "ee0ac2f0e8644404aed0691522356ca5": {
      "model_module": "@jupyter-widgets/base",
      "model_module_version": "1.2.0",
      "model_name": "LayoutModel",
      "state": {}
     },
     "ee677837a93640678bcc451252d0f58a": {
      "model_module": "@jupyter-widgets/base",
      "model_module_version": "1.2.0",
      "model_name": "LayoutModel",
      "state": {}
     },
     "f011e420923242418cd269731296d724": {
      "model_module": "@jupyter-widgets/base",
      "model_module_version": "1.2.0",
      "model_name": "LayoutModel",
      "state": {}
     },
     "f014c33cbe9b4e9e8c0ef51c898c191a": {
      "model_module": "@jupyter-widgets/controls",
      "model_module_version": "1.5.0",
      "model_name": "FloatSliderModel",
      "state": {
       "description": "a1",
       "layout": "IPY_MODEL_6973b7bf82f342e3b48495304c6d5da2",
       "max": 3,
       "step": 0.01,
       "style": "IPY_MODEL_6df78ca7835f41629bdd6d874c4ad34f"
      }
     },
     "f0573ede82d24457884bc5f6be2d11dd": {
      "model_module": "@jupyter-widgets/base",
      "model_module_version": "1.2.0",
      "model_name": "LayoutModel",
      "state": {}
     },
     "f0831bc350e84985a69175cda2902a2e": {
      "model_module": "@jupyter-widgets/base",
      "model_module_version": "1.2.0",
      "model_name": "LayoutModel",
      "state": {}
     },
     "f17610798a124b239db14c6a85a26a3c": {
      "model_module": "@jupyter-widgets/controls",
      "model_module_version": "1.5.0",
      "model_name": "VBoxModel",
      "state": {
       "_dom_classes": [
        "widget-interact"
       ],
       "children": [
        "IPY_MODEL_1c6fb540757a4963a4eb6ce34a4299b3",
        "IPY_MODEL_f40fd39566e145ddb24e063776b666b2",
        "IPY_MODEL_ff31dfeb2d8849ae9e3bc546beb21d44",
        "IPY_MODEL_242f0caef9cd4bbdac2a4879fd4733c4"
       ],
       "layout": "IPY_MODEL_52ddbd9d9b114df0a4ac761a8d8ed4d3"
      }
     },
     "f18b1b3f749d485d80eecf518a4882ad": {
      "model_module": "@jupyter-widgets/controls",
      "model_module_version": "1.5.0",
      "model_name": "SliderStyleModel",
      "state": {
       "description_width": ""
      }
     },
     "f1a32dee23784d528b30ac6d9fa9e7b0": {
      "model_module": "@jupyter-widgets/controls",
      "model_module_version": "1.5.0",
      "model_name": "FloatSliderModel",
      "state": {
       "description": "b",
       "layout": "IPY_MODEL_f5f5d1b2feb148a3b508d1867cf86f50",
       "max": 3,
       "min": -3,
       "step": 0.5,
       "style": "IPY_MODEL_f18b1b3f749d485d80eecf518a4882ad"
      }
     },
     "f1ab1324f96d4709ac968ea02893ac78": {
      "model_module": "@jupyter-widgets/controls",
      "model_module_version": "1.5.0",
      "model_name": "VBoxModel",
      "state": {
       "_dom_classes": [
        "widget-interact"
       ],
       "children": [
        "IPY_MODEL_144df7cf416549c798466fd4686db486",
        "IPY_MODEL_89a77185071a4835ae87dc06ccd6228f",
        "IPY_MODEL_9dfbe2e678794c689b2415b767c10f70",
        "IPY_MODEL_7ed0f1fd8bb84a808da239fe8c792e9e"
       ],
       "layout": "IPY_MODEL_3bedd800bb2f4466a528d3c9dc410335"
      }
     },
     "f24d52a0eb0645daa9d3b625d4c76fa9": {
      "model_module": "@jupyter-widgets/controls",
      "model_module_version": "1.5.0",
      "model_name": "SliderStyleModel",
      "state": {
       "description_width": ""
      }
     },
     "f262a152d2174aeeab652c5cee4634cb": {
      "model_module": "@jupyter-widgets/base",
      "model_module_version": "1.2.0",
      "model_name": "LayoutModel",
      "state": {}
     },
     "f2d02fe6ca5e4936bbb41838bfffbb83": {
      "model_module": "@jupyter-widgets/base",
      "model_module_version": "1.2.0",
      "model_name": "LayoutModel",
      "state": {}
     },
     "f3503421500e4ba695f821c31671c5cd": {
      "model_module": "@jupyter-widgets/base",
      "model_module_version": "1.2.0",
      "model_name": "LayoutModel",
      "state": {}
     },
     "f40fd39566e145ddb24e063776b666b2": {
      "model_module": "@jupyter-widgets/controls",
      "model_module_version": "1.5.0",
      "model_name": "FloatSliderModel",
      "state": {
       "description": "a1",
       "layout": "IPY_MODEL_0b1288c56a4044df8d8fffec1f7bf073",
       "max": 3,
       "step": 0.01,
       "style": "IPY_MODEL_d584b92a1dfb44dd97161c31d6495baf"
      }
     },
     "f59916a5d6fe41e3b26531922fbd0447": {
      "model_module": "@jupyter-widgets/base",
      "model_module_version": "1.2.0",
      "model_name": "LayoutModel",
      "state": {}
     },
     "f5f5d1b2feb148a3b508d1867cf86f50": {
      "model_module": "@jupyter-widgets/base",
      "model_module_version": "1.2.0",
      "model_name": "LayoutModel",
      "state": {}
     },
     "f65339cde1684216816d0c8c4030ff4d": {
      "model_module": "@jupyter-widgets/base",
      "model_module_version": "1.2.0",
      "model_name": "LayoutModel",
      "state": {}
     },
     "f68ebc85b45543048b9426c3b3d289f6": {
      "model_module": "@jupyter-widgets/controls",
      "model_module_version": "1.5.0",
      "model_name": "FloatSliderModel",
      "state": {
       "description": "a0",
       "layout": "IPY_MODEL_7beedc041fdd4dd29a11c1773ef249ad",
       "max": 15,
       "min": -5,
       "step": 0.01,
       "style": "IPY_MODEL_3d4a29fb74cc4db3881703aa45b1b5d1",
       "value": 5
      }
     },
     "f74f9e63b5a84c15a4b6ac7dcdb052e3": {
      "model_module": "@jupyter-widgets/base",
      "model_module_version": "1.2.0",
      "model_name": "LayoutModel",
      "state": {}
     },
     "f7e435c9af2545a4b79e875441d26ff2": {
      "model_module": "@jupyter-widgets/base",
      "model_module_version": "1.2.0",
      "model_name": "LayoutModel",
      "state": {}
     },
     "f887edb9aa4741a3b75b36cb0d9e628e": {
      "model_module": "@jupyter-widgets/controls",
      "model_module_version": "1.5.0",
      "model_name": "FloatSliderModel",
      "state": {
       "description": "m",
       "layout": "IPY_MODEL_638773da2b8d4ebba0c8184dc529ade4",
       "max": 2,
       "min": -2,
       "step": 0.1,
       "style": "IPY_MODEL_1b96075a7a3b4571831149a66745e988"
      }
     },
     "f96b170866174a74bda77c5070dd7c8b": {
      "model_module": "@jupyter-widgets/controls",
      "model_module_version": "1.5.0",
      "model_name": "FloatSliderModel",
      "state": {
       "description": "a1",
       "layout": "IPY_MODEL_ee677837a93640678bcc451252d0f58a",
       "max": 3,
       "step": 0.01,
       "style": "IPY_MODEL_fa875a953aa54c0383f69b56b6b0563f"
      }
     },
     "f96f95053bab47cdbaf592c4fac626fc": {
      "model_module": "@jupyter-widgets/controls",
      "model_module_version": "1.5.0",
      "model_name": "VBoxModel",
      "state": {
       "_dom_classes": [
        "widget-interact"
       ],
       "children": [
        "IPY_MODEL_21e0077cc74a4304875e7e2eeec151e0",
        "IPY_MODEL_4ad4402ca91244df827da7500e51434c",
        "IPY_MODEL_b91f497da2ad45c2860b48344c0d6b64",
        "IPY_MODEL_4149a93ccb424ffe85d357abd29a6d59"
       ],
       "layout": "IPY_MODEL_f0573ede82d24457884bc5f6be2d11dd"
      }
     },
     "f9b7ec00a99d48bfaa1bb601764caaae": {
      "model_module": "@jupyter-widgets/controls",
      "model_module_version": "1.5.0",
      "model_name": "SliderStyleModel",
      "state": {
       "description_width": ""
      }
     },
     "fa875a953aa54c0383f69b56b6b0563f": {
      "model_module": "@jupyter-widgets/controls",
      "model_module_version": "1.5.0",
      "model_name": "SliderStyleModel",
      "state": {
       "description_width": ""
      }
     },
     "fb4f300fd2d548dd9f003e995d13b1da": {
      "model_module": "@jupyter-widgets/controls",
      "model_module_version": "1.5.0",
      "model_name": "FloatSliderModel",
      "state": {
       "description": "a0",
       "layout": "IPY_MODEL_3f144ed12d3541d78be93d86d1225641",
       "max": 15,
       "min": -5,
       "step": 0.01,
       "style": "IPY_MODEL_e9b5c74920cb4ddfa0e8b9c1f1a55d50",
       "value": 5
      }
     },
     "fd572f0a379449818a26c1dea872418b": {
      "model_module": "@jupyter-widgets/base",
      "model_module_version": "1.2.0",
      "model_name": "LayoutModel",
      "state": {}
     },
     "fd664f1c1bfe4799aa19088605dec428": {
      "model_module": "@jupyter-widgets/base",
      "model_module_version": "1.2.0",
      "model_name": "LayoutModel",
      "state": {
       "height": "350px"
      }
     },
     "fd889f46edf34dfa81ce9ebd693f63eb": {
      "model_module": "@jupyter-widgets/controls",
      "model_module_version": "1.5.0",
      "model_name": "VBoxModel",
      "state": {
       "_dom_classes": [
        "widget-interact"
       ],
       "children": [
        "IPY_MODEL_b01bd6b869ee47868d833e0b25d3df96",
        "IPY_MODEL_f1a32dee23784d528b30ac6d9fa9e7b0",
        "IPY_MODEL_6bb2583eabb645c6a1f507d29c848266"
       ],
       "layout": "IPY_MODEL_db7f5d4f9de6442ab476bc2a4397b9e5"
      }
     },
     "fdb39013b9d74ce6b941439515713c0c": {
      "model_module": "@jupyter-widgets/base",
      "model_module_version": "1.2.0",
      "model_name": "LayoutModel",
      "state": {}
     },
     "fe5469fb297c4ae9a263112e7b5c96f5": {
      "model_module": "@jupyter-widgets/controls",
      "model_module_version": "1.5.0",
      "model_name": "DescriptionStyleModel",
      "state": {
       "description_width": ""
      }
     },
     "ff31dfeb2d8849ae9e3bc546beb21d44": {
      "model_module": "@jupyter-widgets/controls",
      "model_module_version": "1.5.0",
      "model_name": "CheckboxModel",
      "state": {
       "description": "fit_reg",
       "disabled": false,
       "layout": "IPY_MODEL_a086bdd29e6047ecb815b844e31acd53",
       "style": "IPY_MODEL_959873c4dc8c451fb547f6f25616a916",
       "value": false
      }
     },
     "ffd1c31857f44b78a913e8ff6ed9d4ef": {
      "model_module": "@jupyter-widgets/output",
      "model_module_version": "1.0.0",
      "model_name": "OutputModel",
      "state": {
       "layout": "IPY_MODEL_8df2d0460afd491d9e4834e9eea26745"
      }
     },
     "ffeb60ef291f4079b0f34c22a3b47f27": {
      "model_module": "@jupyter-widgets/controls",
      "model_module_version": "1.5.0",
      "model_name": "FloatSliderModel",
      "state": {
       "description": "a0",
       "layout": "IPY_MODEL_988a0668501c4d658da6560c3fede6f5",
       "max": 15,
       "min": -5,
       "step": 0.01,
       "style": "IPY_MODEL_69d3d2b5ee384a1d8358fcf4711c39df",
       "value": 5
      }
     }
    },
    "version_major": 2,
    "version_minor": 0
   }
  }
 },
 "nbformat": 4,
 "nbformat_minor": 5
}
